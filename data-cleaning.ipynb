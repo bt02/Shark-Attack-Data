{
 "cells": [
  {
   "cell_type": "code",
   "execution_count": 1,
   "metadata": {
    "ExecuteTime": {
     "end_time": "2021-03-10T22:30:14.048933Z",
     "start_time": "2021-03-10T22:30:13.108151Z"
    }
   },
   "outputs": [],
   "source": [
    "import pandas as pd\n",
    "import numpy as np\n",
    "pd.set_option('display.max_columns', None)\n",
    "pd.set_option('display.max_rows', None)"
   ]
  },
  {
   "cell_type": "code",
   "execution_count": 2,
   "metadata": {
    "ExecuteTime": {
     "end_time": "2021-03-10T22:30:14.769219Z",
     "start_time": "2021-03-10T22:30:14.067096Z"
    }
   },
   "outputs": [],
   "source": [
    "df = pd.read_excel('CSV_files/shark_data.xls')"
   ]
  },
  {
   "cell_type": "code",
   "execution_count": 3,
   "metadata": {
    "ExecuteTime": {
     "end_time": "2021-02-12T21:44:18.684606Z",
     "start_time": "2021-02-12T21:44:18.670561Z"
    }
   },
   "outputs": [],
   "source": [
    "df = df[:6579]"
   ]
  },
  {
   "cell_type": "code",
   "execution_count": 4,
   "metadata": {
    "ExecuteTime": {
     "end_time": "2021-02-12T21:44:18.796039Z",
     "start_time": "2021-02-12T21:44:18.686563Z"
    }
   },
   "outputs": [
    {
     "name": "stdout",
     "output_type": "stream",
     "text": [
      "Case Number \n",
      "\n",
      "1966.12.26    0.000304\n",
      "2014.08.02    0.000304\n",
      "2013.10.05    0.000304\n",
      "1980.07.00    0.000304\n",
      "2005.04.06    0.000304\n",
      "Name: Case Number, dtype: float64\n",
      "-------------\n",
      "Date \n",
      "\n",
      "1957       0.001368\n",
      "1942       0.001216\n",
      "1958       0.001064\n",
      "1956       0.000912\n",
      "No date    0.000912\n",
      "Name: Date, dtype: float64\n",
      "-------------\n",
      "Year \n",
      "\n",
      "2015.0    0.021742\n",
      "2017.0    0.021134\n",
      "2016.0    0.019918\n",
      "2011.0    0.019462\n",
      "2014.0    0.019310\n",
      "Name: Year, dtype: float64\n",
      "-------------\n",
      "Type \n",
      "\n",
      "Unprovoked      0.731923\n",
      "Provoked        0.091490\n",
      "Invalid         0.084031\n",
      "Watercraft      0.052672\n",
      "Sea Disaster    0.036535\n",
      "Name: Type, dtype: float64\n",
      "-------------\n",
      "Country \n",
      "\n",
      "USA                 0.362843\n",
      "AUSTRALIA           0.215041\n",
      "SOUTH AFRICA        0.089600\n",
      "NEW ZEALAND         0.020983\n",
      "PAPUA NEW GUINEA    0.020677\n",
      "Name: Country, dtype: float64\n",
      "-------------\n",
      "Area \n",
      "\n",
      "Florida            0.179647\n",
      "New South Wales    0.082788\n",
      "Queensland         0.054974\n",
      "Hawaii             0.052029\n",
      "California         0.050065\n",
      "Name: Area, dtype: float64\n",
      "-------------\n",
      "Location \n",
      "\n",
      "New Smyrna Beach, Volusia County    0.029856\n",
      "Daytona Beach, Volusia County       0.004976\n",
      "Ponce Inlet, Volusia County         0.003815\n",
      "Melbourne Beach, Brevard County     0.003317\n",
      "Myrtle Beach, Horry County          0.002986\n",
      "Name: Location, dtype: float64\n",
      "-------------\n",
      "Activity \n",
      "\n",
      "Surfing         0.173696\n",
      "Swimming        0.149286\n",
      "Fishing         0.076719\n",
      "Spearfishing    0.058951\n",
      "Bathing         0.027067\n",
      "Name: Activity, dtype: float64\n",
      "-------------\n",
      "Name \n",
      "\n",
      "male       0.093338\n",
      "female     0.017442\n",
      "boy        0.003614\n",
      "2 males    0.002671\n",
      "boat       0.002200\n",
      "Name: Name, dtype: float64\n",
      "-------------\n",
      "Sex  \n",
      "\n",
      "M      0.882970\n",
      "F      0.115865\n",
      "N      0.000333\n",
      "M      0.000333\n",
      "lli    0.000166\n",
      "Name: Sex , dtype: float64\n",
      "-------------\n",
      "Age \n",
      "\n",
      "19    0.023401\n",
      "16    0.023401\n",
      "18    0.022313\n",
      "17    0.022313\n",
      "17    0.022041\n",
      "Name: Age, dtype: float64\n",
      "-------------\n",
      "Injury \n",
      "\n",
      "FATAL          0.125668\n",
      "Survived       0.014811\n",
      "Foot bitten    0.014201\n",
      "No injury      0.012826\n",
      "Leg bitten     0.011299\n",
      "Name: Injury, dtype: float64\n",
      "-------------\n",
      "Fatal (Y/N) \n",
      "\n",
      "N          0.751950\n",
      "Y          0.233947\n",
      "UNKNOWN    0.011780\n",
      " N         0.001161\n",
      "F          0.000332\n",
      "Name: Fatal (Y/N), dtype: float64\n",
      "-------------\n",
      "Time \n",
      "\n",
      "Afternoon    0.063331\n",
      "11h00        0.042115\n",
      "Morning      0.040532\n",
      "12h00        0.036415\n",
      "15h00        0.035782\n",
      "Name: Time, dtype: float64\n",
      "-------------\n",
      "Species  \n",
      "\n",
      "White shark                                           0.049103\n",
      "Shark involvement prior to death was not confirmed    0.028966\n",
      "Invalid                                               0.028138\n",
      "Shark involvement not confirmed                       0.024552\n",
      "Tiger shark                                           0.022345\n",
      "Name: Species , dtype: float64\n",
      "-------------\n",
      "Investigator or Source \n",
      "\n",
      "C. Moore, GSAF                     0.015849\n",
      "C. Creswell, GSAF                  0.014325\n",
      "K. McMurray, TrackingSharks.com    0.012801\n",
      "S. Petersohn, GSAF                 0.012496\n",
      "R. Collier                         0.008382\n",
      "Name: Investigator or Source, dtype: float64\n",
      "-------------\n",
      "pdf \n",
      "\n",
      "1934.12.23.a-b-Inman.pdf               0.000304\n",
      "1907.10.16.R-HongKong.pdf              0.000304\n",
      "1921.11.27.a-b-Jack.pdf                0.000304\n",
      "1916.07.12.a-b-Stillwell-Fisher.pdf    0.000304\n",
      "1923.00.00.a-NJ fisherman.pdf          0.000304\n",
      "Name: pdf, dtype: float64\n",
      "-------------\n",
      "href formula \n",
      "\n",
      "http://sharkattackfile.net/spreadsheets/pdf_directory/1916.12.08.a-b-German.pdf            0.000304\n",
      "http://sharkattackfile.net/spreadsheets/pdf_directory/1923.00.00.a-NJ fisherman.pdf        0.000304\n",
      "http://sharkattackfile.net/spreadsheets/pdf_directory/1906.09.27.R.a&b-Munich-Swede.pdf    0.000304\n",
      "http://sharkattackfile.net/spreadsheets/pdf_directory/1907.10.16.R-HongKong.pdf            0.000304\n",
      "http://sharkattackfile.net/spreadsheets/pdf_directory/1921.11.27.a-b-Jack.pdf              0.000304\n",
      "Name: href formula, dtype: float64\n",
      "-------------\n",
      "href \n",
      "\n",
      "http://sharkattackfile.net/spreadsheets/pdf_directory/w014.01.25-Grant.pdf             0.000608\n",
      "http://sharkattackfile.net/spreadsheets/pdf_directory/2014.10.02.b-Vandenberg.pdf      0.000456\n",
      "http://sharkattackfile.net/spreadsheets/pdf_directory/1923.00.00.a-NJ fisherman.pdf    0.000304\n",
      "http://sharkattackfile.net/spreadsheets/pdf_directory/2014.10.14-Bandy.pdf             0.000304\n",
      "http://sharkattackfile.net/spreadsheets/pdf_directory/1916.12.08.a-b-German.pdf        0.000304\n",
      "Name: href, dtype: float64\n",
      "-------------\n",
      "Case Number.1 \n",
      "\n",
      "1915.07.06.a.R    0.000304\n",
      "2014.08.02        0.000304\n",
      "2012.09.02.b      0.000304\n",
      "1980.07.00        0.000304\n",
      "1952.08.04        0.000304\n",
      "Name: Case Number.1, dtype: float64\n",
      "-------------\n",
      "Case Number.2 \n",
      "\n",
      "1920.00.00.b      0.000304\n",
      "1983.06.15        0.000304\n",
      "1915.07.06.a.R    0.000304\n",
      "1990.05.10        0.000304\n",
      "1980.07.00        0.000304\n",
      "Name: Case Number.2, dtype: float64\n",
      "-------------\n",
      "original order \n",
      "\n",
      "6369.0    0.000304\n",
      "569.0     0.000304\n",
      "5405.0    0.000152\n",
      "5840.0    0.000152\n",
      "4592.0    0.000152\n",
      "Name: original order, dtype: float64\n",
      "-------------\n",
      "Unnamed: 22 \n",
      "\n",
      "stopped here    1.0\n",
      "Name: Unnamed: 22, dtype: float64\n",
      "-------------\n",
      "Unnamed: 23 \n",
      "\n",
      "change filename    0.5\n",
      "Teramo             0.5\n",
      "Name: Unnamed: 23, dtype: float64\n",
      "-------------\n"
     ]
    }
   ],
   "source": [
    "for i in df:\n",
    "    print(i, '\\n')\n",
    "    print(df[i].value_counts(normalize=True).head())\n",
    "    print('-------------')"
   ]
  },
  {
   "cell_type": "code",
   "execution_count": 5,
   "metadata": {
    "ExecuteTime": {
     "end_time": "2021-02-12T21:44:18.812054Z",
     "start_time": "2021-02-12T21:44:18.798038Z"
    }
   },
   "outputs": [],
   "source": [
    "df.drop(['href formula','Name', 'href', 'pdf', 'Case Number', 'Age', 'Investigator or Source', 'original order', 'Unnamed: 22', 'Unnamed: 23','Case Number.1', 'Case Number.2'], axis=1, inplace=True)"
   ]
  },
  {
   "cell_type": "code",
   "execution_count": 6,
   "metadata": {
    "ExecuteTime": {
     "end_time": "2021-02-12T21:44:18.844150Z",
     "start_time": "2021-02-12T21:44:18.815041Z"
    },
    "scrolled": true
   },
   "outputs": [
    {
     "data": {
      "text/html": [
       "<div>\n",
       "<style scoped>\n",
       "    .dataframe tbody tr th:only-of-type {\n",
       "        vertical-align: middle;\n",
       "    }\n",
       "\n",
       "    .dataframe tbody tr th {\n",
       "        vertical-align: top;\n",
       "    }\n",
       "\n",
       "    .dataframe thead th {\n",
       "        text-align: right;\n",
       "    }\n",
       "</style>\n",
       "<table border=\"1\" class=\"dataframe\">\n",
       "  <thead>\n",
       "    <tr style=\"text-align: right;\">\n",
       "      <th></th>\n",
       "      <th>Date</th>\n",
       "      <th>Year</th>\n",
       "      <th>Type</th>\n",
       "      <th>Country</th>\n",
       "      <th>Area</th>\n",
       "      <th>Location</th>\n",
       "      <th>Activity</th>\n",
       "      <th>Sex</th>\n",
       "      <th>Injury</th>\n",
       "      <th>Fatal (Y/N)</th>\n",
       "      <th>Time</th>\n",
       "      <th>Species</th>\n",
       "    </tr>\n",
       "  </thead>\n",
       "  <tbody>\n",
       "    <tr>\n",
       "      <td>0</td>\n",
       "      <td>09-Oct-2020</td>\n",
       "      <td>2020.0</td>\n",
       "      <td>Unprovoked</td>\n",
       "      <td>AUSTRALIA</td>\n",
       "      <td>Western Australia</td>\n",
       "      <td>Kelp Beds Beach (Kelpies)</td>\n",
       "      <td>Surfing</td>\n",
       "      <td>M</td>\n",
       "      <td>FATAL</td>\n",
       "      <td>Y</td>\n",
       "      <td>10h45</td>\n",
       "      <td>NaN</td>\n",
       "    </tr>\n",
       "    <tr>\n",
       "      <td>1</td>\n",
       "      <td>07-Oct-2020</td>\n",
       "      <td>2020.0</td>\n",
       "      <td>Unprovoked</td>\n",
       "      <td>USA</td>\n",
       "      <td>Florida</td>\n",
       "      <td>Miami Beach, Miami-Dade County</td>\n",
       "      <td>Body Surfing</td>\n",
       "      <td>M</td>\n",
       "      <td>Laceration to lower leg</td>\n",
       "      <td>N</td>\n",
       "      <td>Afternoon</td>\n",
       "      <td>Blacktip shark</td>\n",
       "    </tr>\n",
       "    <tr>\n",
       "      <td>2</td>\n",
       "      <td>04-Oct-2020</td>\n",
       "      <td>2020.0</td>\n",
       "      <td>Unprovoked</td>\n",
       "      <td>AUSTRALIA</td>\n",
       "      <td>Western Australia</td>\n",
       "      <td>Toms Surf break, Hamersley Pool, North Beach, ...</td>\n",
       "      <td>Surfing</td>\n",
       "      <td>M</td>\n",
       "      <td>No injury, knocked off board when shark grabbe...</td>\n",
       "      <td>N</td>\n",
       "      <td>10h45</td>\n",
       "      <td>Bronze whaler 1.5m</td>\n",
       "    </tr>\n",
       "    <tr>\n",
       "      <td>3</td>\n",
       "      <td>21-Sep-2020</td>\n",
       "      <td>2020.0</td>\n",
       "      <td>NaN</td>\n",
       "      <td>USA</td>\n",
       "      <td>Hawaii</td>\n",
       "      <td>Charley Young Beach, Maui</td>\n",
       "      <td>Swimming</td>\n",
       "      <td>F</td>\n",
       "      <td>Lacerations and puncture wounds to shoulder</td>\n",
       "      <td>N</td>\n",
       "      <td>11h00</td>\n",
       "      <td>Injures not caused by a shark</td>\n",
       "    </tr>\n",
       "    <tr>\n",
       "      <td>4</td>\n",
       "      <td>20-Sep-2020</td>\n",
       "      <td>2020.0</td>\n",
       "      <td>Unprovoked</td>\n",
       "      <td>USA</td>\n",
       "      <td>Florida</td>\n",
       "      <td>Sombero Key Light, Monroe County</td>\n",
       "      <td>Snorkeling</td>\n",
       "      <td>M</td>\n",
       "      <td>Severe bite to shoulder</td>\n",
       "      <td>N</td>\n",
       "      <td>10h30</td>\n",
       "      <td>Bull shark</td>\n",
       "    </tr>\n",
       "  </tbody>\n",
       "</table>\n",
       "</div>"
      ],
      "text/plain": [
       "          Date    Year        Type    Country               Area  \\\n",
       "0  09-Oct-2020  2020.0  Unprovoked  AUSTRALIA  Western Australia   \n",
       "1  07-Oct-2020  2020.0  Unprovoked        USA            Florida   \n",
       "2  04-Oct-2020  2020.0  Unprovoked  AUSTRALIA  Western Australia   \n",
       "3  21-Sep-2020  2020.0         NaN        USA             Hawaii   \n",
       "4  20-Sep-2020  2020.0  Unprovoked        USA            Florida   \n",
       "\n",
       "                                            Location      Activity Sex   \\\n",
       "0                          Kelp Beds Beach (Kelpies)       Surfing    M   \n",
       "1                     Miami Beach, Miami-Dade County  Body Surfing    M   \n",
       "2  Toms Surf break, Hamersley Pool, North Beach, ...       Surfing    M   \n",
       "3                          Charley Young Beach, Maui      Swimming    F   \n",
       "4                   Sombero Key Light, Monroe County    Snorkeling    M   \n",
       "\n",
       "                                              Injury Fatal (Y/N)       Time  \\\n",
       "0                                              FATAL           Y      10h45   \n",
       "1                            Laceration to lower leg           N  Afternoon   \n",
       "2  No injury, knocked off board when shark grabbe...           N      10h45   \n",
       "3        Lacerations and puncture wounds to shoulder           N      11h00   \n",
       "4                            Severe bite to shoulder           N      10h30   \n",
       "\n",
       "                        Species   \n",
       "0                            NaN  \n",
       "1                 Blacktip shark  \n",
       "2             Bronze whaler 1.5m  \n",
       "3  Injures not caused by a shark  \n",
       "4                     Bull shark  "
      ]
     },
     "execution_count": 6,
     "metadata": {},
     "output_type": "execute_result"
    }
   ],
   "source": [
    "df.head()"
   ]
  },
  {
   "cell_type": "code",
   "execution_count": 7,
   "metadata": {
    "ExecuteTime": {
     "end_time": "2021-02-12T21:44:18.860153Z",
     "start_time": "2021-02-12T21:44:18.846126Z"
    }
   },
   "outputs": [],
   "source": [
    "df.rename(columns={'Sex ': 'Sex'}, inplace=True)"
   ]
  },
  {
   "cell_type": "code",
   "execution_count": 8,
   "metadata": {
    "ExecuteTime": {
     "end_time": "2021-02-12T21:44:18.876147Z",
     "start_time": "2021-02-12T21:44:18.862124Z"
    }
   },
   "outputs": [],
   "source": [
    "df['Injury'] = df['Injury'].astype(str)"
   ]
  },
  {
   "cell_type": "code",
   "execution_count": 9,
   "metadata": {
    "ExecuteTime": {
     "end_time": "2021-02-12T21:44:19.481535Z",
     "start_time": "2021-02-12T21:44:18.877125Z"
    }
   },
   "outputs": [
    {
     "name": "stderr",
     "output_type": "stream",
     "text": [
      "C:\\Users\\bdtol\\anaconda3\\envs\\learn-env\\lib\\site-packages\\ipykernel_launcher.py:3: SettingWithCopyWarning: \n",
      "A value is trying to be set on a copy of a slice from a DataFrame\n",
      "\n",
      "See the caveats in the documentation: http://pandas.pydata.org/pandas-docs/stable/user_guide/indexing.html#returning-a-view-versus-a-copy\n",
      "  This is separate from the ipykernel package so we can avoid doing imports until\n",
      "C:\\Users\\bdtol\\anaconda3\\envs\\learn-env\\lib\\site-packages\\ipykernel_launcher.py:7: SettingWithCopyWarning: \n",
      "A value is trying to be set on a copy of a slice from a DataFrame\n",
      "\n",
      "See the caveats in the documentation: http://pandas.pydata.org/pandas-docs/stable/user_guide/indexing.html#returning-a-view-versus-a-copy\n",
      "  import sys\n",
      "C:\\Users\\bdtol\\anaconda3\\envs\\learn-env\\lib\\site-packages\\ipykernel_launcher.py:5: SettingWithCopyWarning: \n",
      "A value is trying to be set on a copy of a slice from a DataFrame\n",
      "\n",
      "See the caveats in the documentation: http://pandas.pydata.org/pandas-docs/stable/user_guide/indexing.html#returning-a-view-versus-a-copy\n",
      "  \"\"\"\n"
     ]
    }
   ],
   "source": [
    "for i , d in enumerate(df['Injury']):\n",
    "    if d[:5] == \"FATAL\":\n",
    "        df['Injury'][i] = 'Fatal'\n",
    "    elif d[:9] == 'No injury':\n",
    "        df['Injury'][i] = 'No Injury'\n",
    "    else:\n",
    "        df['Injury'][i] = 'Survived'"
   ]
  },
  {
   "cell_type": "code",
   "execution_count": 10,
   "metadata": {
    "ExecuteTime": {
     "end_time": "2021-02-12T21:44:19.497129Z",
     "start_time": "2021-02-12T21:44:19.481535Z"
    }
   },
   "outputs": [],
   "source": [
    "fatal_drop = []\n",
    "for i , d in enumerate(df['Fatal (Y/N)']):\n",
    "    if d != 'N' and d != 'Y':\n",
    "        fatal_drop.append(i)"
   ]
  },
  {
   "cell_type": "code",
   "execution_count": 11,
   "metadata": {
    "ExecuteTime": {
     "end_time": "2021-02-12T21:44:19.520318Z",
     "start_time": "2021-02-12T21:44:19.499013Z"
    }
   },
   "outputs": [],
   "source": [
    "df.drop(fatal_drop, inplace=True)"
   ]
  },
  {
   "cell_type": "code",
   "execution_count": 12,
   "metadata": {
    "ExecuteTime": {
     "end_time": "2021-02-12T21:44:19.535317Z",
     "start_time": "2021-02-12T21:44:19.523317Z"
    }
   },
   "outputs": [],
   "source": [
    "df['Sex'] = df['Sex'].replace(['M ', 'N'], 'M')\n",
    "df['Sex'] = df['Sex'].replace(['lli', '.'], '?')"
   ]
  },
  {
   "cell_type": "code",
   "execution_count": 13,
   "metadata": {
    "ExecuteTime": {
     "end_time": "2021-02-12T21:44:19.551311Z",
     "start_time": "2021-02-12T21:44:19.538318Z"
    }
   },
   "outputs": [],
   "source": [
    "df['Sex'].fillna('?', inplace=True)"
   ]
  },
  {
   "cell_type": "code",
   "execution_count": 14,
   "metadata": {
    "ExecuteTime": {
     "end_time": "2021-02-12T21:44:19.567313Z",
     "start_time": "2021-02-12T21:44:19.554319Z"
    }
   },
   "outputs": [
    {
     "data": {
      "text/plain": [
       "M    0.816728\n",
       "F    0.105688\n",
       "?    0.077583\n",
       "Name: Sex, dtype: float64"
      ]
     },
     "execution_count": 14,
     "metadata": {},
     "output_type": "execute_result"
    }
   ],
   "source": [
    "df['Sex'].value_counts(normalize=True)"
   ]
  },
  {
   "cell_type": "code",
   "execution_count": 15,
   "metadata": {
    "ExecuteTime": {
     "end_time": "2021-02-12T21:44:19.599252Z",
     "start_time": "2021-02-12T21:44:19.569312Z"
    }
   },
   "outputs": [],
   "source": [
    "sex_prob = [0.816728, 0.105688]\n",
    "prob = [i/sum(sex_prob) for i in sex_prob]\n",
    "\n",
    "def impute_value(value):\n",
    "    if value == '?':\n",
    "        return np.random.choice(['M', 'F'], p = prob)\n",
    "    else:\n",
    "        return value\n",
    "    \n",
    "df.Sex = df.Sex.map(lambda x: impute_value(x))"
   ]
  },
  {
   "cell_type": "code",
   "execution_count": 32,
   "metadata": {
    "ExecuteTime": {
     "end_time": "2021-02-12T21:49:56.072720Z",
     "start_time": "2021-02-12T21:49:56.050732Z"
    }
   },
   "outputs": [],
   "source": [
    "df.dropna(subset=['Year', 'Type', 'Country'], inplace=True)"
   ]
  },
  {
   "cell_type": "code",
   "execution_count": 34,
   "metadata": {
    "ExecuteTime": {
     "end_time": "2021-02-12T21:50:29.290552Z",
     "start_time": "2021-02-12T21:50:29.265930Z"
    }
   },
   "outputs": [],
   "source": [
    "df.fillna('Not Available', inplace=True)"
   ]
  },
  {
   "cell_type": "code",
   "execution_count": 35,
   "metadata": {
    "ExecuteTime": {
     "end_time": "2021-02-12T21:50:34.930682Z",
     "start_time": "2021-02-12T21:50:34.916678Z"
    }
   },
   "outputs": [
    {
     "data": {
      "text/plain": [
       "Date           0\n",
       "Year           0\n",
       "Type           0\n",
       "Country        0\n",
       "Area           0\n",
       "Location       0\n",
       "Activity       0\n",
       "Sex            0\n",
       "Injury         0\n",
       "Fatal (Y/N)    0\n",
       "Time           0\n",
       "Species        0\n",
       "dtype: int64"
      ]
     },
     "execution_count": 35,
     "metadata": {},
     "output_type": "execute_result"
    }
   ],
   "source": [
    "df.isna().sum()"
   ]
  },
  {
   "cell_type": "code",
   "execution_count": 36,
   "metadata": {
    "ExecuteTime": {
     "end_time": "2021-02-12T21:50:57.624228Z",
     "start_time": "2021-02-12T21:50:57.552991Z"
    }
   },
   "outputs": [],
   "source": [
    "df.to_csv('CSV_files/shark_clean.csv')"
   ]
  },
  {
   "cell_type": "code",
   "execution_count": null,
   "metadata": {},
   "outputs": [],
   "source": []
  }
 ],
 "metadata": {
  "kernelspec": {
   "display_name": "Python 3",
   "language": "python",
   "name": "python3"
  },
  "language_info": {
   "codemirror_mode": {
    "name": "ipython",
    "version": 3
   },
   "file_extension": ".py",
   "mimetype": "text/x-python",
   "name": "python",
   "nbconvert_exporter": "python",
   "pygments_lexer": "ipython3",
   "version": "3.6.9"
  },
  "toc": {
   "base_numbering": 1,
   "nav_menu": {},
   "number_sections": true,
   "sideBar": true,
   "skip_h1_title": false,
   "title_cell": "Table of Contents",
   "title_sidebar": "Contents",
   "toc_cell": false,
   "toc_position": {},
   "toc_section_display": true,
   "toc_window_display": false
  },
  "varInspector": {
   "cols": {
    "lenName": 16,
    "lenType": 16,
    "lenVar": 40
   },
   "kernels_config": {
    "python": {
     "delete_cmd_postfix": "",
     "delete_cmd_prefix": "del ",
     "library": "var_list.py",
     "varRefreshCmd": "print(var_dic_list())"
    },
    "r": {
     "delete_cmd_postfix": ") ",
     "delete_cmd_prefix": "rm(",
     "library": "var_list.r",
     "varRefreshCmd": "cat(var_dic_list()) "
    }
   },
   "types_to_exclude": [
    "module",
    "function",
    "builtin_function_or_method",
    "instance",
    "_Feature"
   ],
   "window_display": false
  }
 },
 "nbformat": 4,
 "nbformat_minor": 2
}
