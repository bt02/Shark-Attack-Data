{
 "cells": [
  {
   "cell_type": "code",
   "execution_count": null,
   "metadata": {
    "ExecuteTime": {
     "end_time": "2021-02-05T00:04:51.071113Z",
     "start_time": "2021-02-05T00:04:10.644Z"
    }
   },
   "outputs": [],
   "source": [
    "import pandas as pd\n",
    "from itertools import chain\n",
    "pd.set_option('display.max_columns', None)\n",
    "pd.set_option('display.max_rows', None)"
   ]
  },
  {
   "cell_type": "code",
   "execution_count": null,
   "metadata": {
    "ExecuteTime": {
     "end_time": "2021-02-05T00:04:51.080922Z",
     "start_time": "2021-02-05T00:04:10.987Z"
    }
   },
   "outputs": [],
   "source": [
    "df = pd.read_excel('shark_data.xls')"
   ]
  },
  {
   "cell_type": "code",
   "execution_count": null,
   "metadata": {
    "ExecuteTime": {
     "end_time": "2021-02-05T00:04:51.091543Z",
     "start_time": "2021-02-05T00:04:11.339Z"
    }
   },
   "outputs": [],
   "source": [
    "df = df[:6579]"
   ]
  },
  {
   "cell_type": "code",
   "execution_count": null,
   "metadata": {
    "ExecuteTime": {
     "end_time": "2021-02-05T00:04:51.103530Z",
     "start_time": "2021-02-05T00:04:11.718Z"
    }
   },
   "outputs": [],
   "source": [
    "for i in df:\n",
    "    print(i, '\\n')\n",
    "    print(df[i].value_counts(normalize=True).head())\n",
    "    print('-------------')"
   ]
  },
  {
   "cell_type": "code",
   "execution_count": null,
   "metadata": {
    "ExecuteTime": {
     "end_time": "2021-02-05T00:04:51.114151Z",
     "start_time": "2021-02-05T00:04:12.180Z"
    }
   },
   "outputs": [],
   "source": [
    "df.drop(['href formula','Name', 'href', 'pdf', 'Case Number', 'Age', 'Investigator or Source', 'original order', 'Unnamed: 22', 'Unnamed: 23','Case Number.1', 'Case Number.2'], axis=1, inplace=True)"
   ]
  },
  {
   "cell_type": "code",
   "execution_count": null,
   "metadata": {
    "ExecuteTime": {
     "end_time": "2021-02-05T00:04:51.125421Z",
     "start_time": "2021-02-05T00:04:12.562Z"
    }
   },
   "outputs": [],
   "source": [
    "df.head()"
   ]
  },
  {
   "cell_type": "code",
   "execution_count": null,
   "metadata": {
    "ExecuteTime": {
     "end_time": "2021-02-05T00:04:51.140643Z",
     "start_time": "2021-02-05T00:04:13.374Z"
    }
   },
   "outputs": [],
   "source": [
    "df['Injury'] = df['Injury'].astype(str)"
   ]
  },
  {
   "cell_type": "code",
   "execution_count": null,
   "metadata": {
    "ExecuteTime": {
     "end_time": "2021-02-05T00:04:51.150958Z",
     "start_time": "2021-02-05T00:04:13.945Z"
    }
   },
   "outputs": [],
   "source": [
    "for i , d in enumerate(df['Injury']):\n",
    "    if d[:5] == \"FATAL\":\n",
    "        df['Injury'][i] = 'Fatal'\n",
    "    elif d[:9] == 'No injury':\n",
    "        df['Injury'][i] = 'No Injury'\n",
    "    else:\n",
    "        df['Injury'][i] = 'Survived'"
   ]
  },
  {
   "cell_type": "code",
   "execution_count": null,
   "metadata": {
    "ExecuteTime": {
     "end_time": "2021-02-05T00:04:51.160966Z",
     "start_time": "2021-02-05T00:04:14.630Z"
    }
   },
   "outputs": [],
   "source": [
    "fatal_drop = []\n",
    "for i , d in enumerate(df['Fatal (Y/N)']):\n",
    "    if d != 'N' and d != 'Y':\n",
    "        fatal_drop.append(i)"
   ]
  },
  {
   "cell_type": "code",
   "execution_count": null,
   "metadata": {
    "ExecuteTime": {
     "end_time": "2021-02-05T00:04:51.173305Z",
     "start_time": "2021-02-05T00:04:14.932Z"
    }
   },
   "outputs": [],
   "source": [
    "df.drop(fatal_drop, inplace=True)"
   ]
  },
  {
   "cell_type": "code",
   "execution_count": null,
   "metadata": {
    "ExecuteTime": {
     "end_time": "2021-02-05T00:04:51.184704Z",
     "start_time": "2021-02-05T00:04:16.785Z"
    }
   },
   "outputs": [],
   "source": [
    "df['Name'].value_counts()"
   ]
  },
  {
   "cell_type": "code",
   "execution_count": null,
   "metadata": {},
   "outputs": [],
   "source": []
  }
 ],
 "metadata": {
  "kernelspec": {
   "display_name": "Python 3",
   "language": "python",
   "name": "python3"
  },
  "language_info": {
   "codemirror_mode": {
    "name": "ipython",
    "version": 3
   },
   "file_extension": ".py",
   "mimetype": "text/x-python",
   "name": "python",
   "nbconvert_exporter": "python",
   "pygments_lexer": "ipython3",
   "version": "3.6.9"
  },
  "toc": {
   "base_numbering": 1,
   "nav_menu": {},
   "number_sections": true,
   "sideBar": true,
   "skip_h1_title": false,
   "title_cell": "Table of Contents",
   "title_sidebar": "Contents",
   "toc_cell": false,
   "toc_position": {},
   "toc_section_display": true,
   "toc_window_display": false
  },
  "varInspector": {
   "cols": {
    "lenName": 16,
    "lenType": 16,
    "lenVar": 40
   },
   "kernels_config": {
    "python": {
     "delete_cmd_postfix": "",
     "delete_cmd_prefix": "del ",
     "library": "var_list.py",
     "varRefreshCmd": "print(var_dic_list())"
    },
    "r": {
     "delete_cmd_postfix": ") ",
     "delete_cmd_prefix": "rm(",
     "library": "var_list.r",
     "varRefreshCmd": "cat(var_dic_list()) "
    }
   },
   "types_to_exclude": [
    "module",
    "function",
    "builtin_function_or_method",
    "instance",
    "_Feature"
   ],
   "window_display": false
  }
 },
 "nbformat": 4,
 "nbformat_minor": 2
}
