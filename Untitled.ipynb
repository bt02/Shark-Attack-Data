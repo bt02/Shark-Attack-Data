{
 "cells": [
  {
   "cell_type": "code",
   "execution_count": 1,
   "metadata": {
    "ExecuteTime": {
     "end_time": "2021-02-12T21:21:05.690914Z",
     "start_time": "2021-02-12T21:21:04.357418Z"
    }
   },
   "outputs": [],
   "source": [
    "import pandas as pd"
   ]
  },
  {
   "cell_type": "code",
   "execution_count": 2,
   "metadata": {
    "ExecuteTime": {
     "end_time": "2021-02-12T21:21:19.811871Z",
     "start_time": "2021-02-12T21:21:19.741555Z"
    }
   },
   "outputs": [],
   "source": [
    "df = pd.read_csv('shark_clean.csv')"
   ]
  },
  {
   "cell_type": "code",
   "execution_count": 3,
   "metadata": {
    "ExecuteTime": {
     "end_time": "2021-02-12T21:21:24.475624Z",
     "start_time": "2021-02-12T21:21:24.421630Z"
    }
   },
   "outputs": [
    {
     "data": {
      "text/html": [
       "<div>\n",
       "<style scoped>\n",
       "    .dataframe tbody tr th:only-of-type {\n",
       "        vertical-align: middle;\n",
       "    }\n",
       "\n",
       "    .dataframe tbody tr th {\n",
       "        vertical-align: top;\n",
       "    }\n",
       "\n",
       "    .dataframe thead th {\n",
       "        text-align: right;\n",
       "    }\n",
       "</style>\n",
       "<table border=\"1\" class=\"dataframe\">\n",
       "  <thead>\n",
       "    <tr style=\"text-align: right;\">\n",
       "      <th></th>\n",
       "      <th>Unnamed: 0</th>\n",
       "      <th>Date</th>\n",
       "      <th>Year</th>\n",
       "      <th>Type</th>\n",
       "      <th>Country</th>\n",
       "      <th>Area</th>\n",
       "      <th>Location</th>\n",
       "      <th>Activity</th>\n",
       "      <th>Sex</th>\n",
       "      <th>Injury</th>\n",
       "      <th>Fatal (Y/N)</th>\n",
       "      <th>Time</th>\n",
       "      <th>Species</th>\n",
       "    </tr>\n",
       "  </thead>\n",
       "  <tbody>\n",
       "    <tr>\n",
       "      <td>0</td>\n",
       "      <td>0</td>\n",
       "      <td>09-Oct-2020</td>\n",
       "      <td>2020.0</td>\n",
       "      <td>Unprovoked</td>\n",
       "      <td>AUSTRALIA</td>\n",
       "      <td>Western Australia</td>\n",
       "      <td>Kelp Beds Beach (Kelpies)</td>\n",
       "      <td>Surfing</td>\n",
       "      <td>M</td>\n",
       "      <td>Fatal</td>\n",
       "      <td>Y</td>\n",
       "      <td>10h45</td>\n",
       "      <td>NaN</td>\n",
       "    </tr>\n",
       "    <tr>\n",
       "      <td>1</td>\n",
       "      <td>1</td>\n",
       "      <td>07-Oct-2020</td>\n",
       "      <td>2020.0</td>\n",
       "      <td>Unprovoked</td>\n",
       "      <td>USA</td>\n",
       "      <td>Florida</td>\n",
       "      <td>Miami Beach, Miami-Dade County</td>\n",
       "      <td>Body Surfing</td>\n",
       "      <td>M</td>\n",
       "      <td>Survived</td>\n",
       "      <td>N</td>\n",
       "      <td>Afternoon</td>\n",
       "      <td>Blacktip shark</td>\n",
       "    </tr>\n",
       "    <tr>\n",
       "      <td>2</td>\n",
       "      <td>2</td>\n",
       "      <td>04-Oct-2020</td>\n",
       "      <td>2020.0</td>\n",
       "      <td>Unprovoked</td>\n",
       "      <td>AUSTRALIA</td>\n",
       "      <td>Western Australia</td>\n",
       "      <td>Toms Surf break, Hamersley Pool, North Beach, ...</td>\n",
       "      <td>Surfing</td>\n",
       "      <td>M</td>\n",
       "      <td>No Injury</td>\n",
       "      <td>N</td>\n",
       "      <td>10h45</td>\n",
       "      <td>Bronze whaler 1.5m</td>\n",
       "    </tr>\n",
       "    <tr>\n",
       "      <td>3</td>\n",
       "      <td>3</td>\n",
       "      <td>21-Sep-2020</td>\n",
       "      <td>2020.0</td>\n",
       "      <td>NaN</td>\n",
       "      <td>USA</td>\n",
       "      <td>Hawaii</td>\n",
       "      <td>Charley Young Beach, Maui</td>\n",
       "      <td>Swimming</td>\n",
       "      <td>F</td>\n",
       "      <td>Survived</td>\n",
       "      <td>N</td>\n",
       "      <td>11h00</td>\n",
       "      <td>Injures not caused by a shark</td>\n",
       "    </tr>\n",
       "    <tr>\n",
       "      <td>4</td>\n",
       "      <td>4</td>\n",
       "      <td>20-Sep-2020</td>\n",
       "      <td>2020.0</td>\n",
       "      <td>Unprovoked</td>\n",
       "      <td>USA</td>\n",
       "      <td>Florida</td>\n",
       "      <td>Sombero Key Light, Monroe County</td>\n",
       "      <td>Snorkeling</td>\n",
       "      <td>M</td>\n",
       "      <td>Survived</td>\n",
       "      <td>N</td>\n",
       "      <td>10h30</td>\n",
       "      <td>Bull shark</td>\n",
       "    </tr>\n",
       "  </tbody>\n",
       "</table>\n",
       "</div>"
      ],
      "text/plain": [
       "   Unnamed: 0         Date    Year        Type    Country               Area  \\\n",
       "0           0  09-Oct-2020  2020.0  Unprovoked  AUSTRALIA  Western Australia   \n",
       "1           1  07-Oct-2020  2020.0  Unprovoked        USA            Florida   \n",
       "2           2  04-Oct-2020  2020.0  Unprovoked  AUSTRALIA  Western Australia   \n",
       "3           3  21-Sep-2020  2020.0         NaN        USA             Hawaii   \n",
       "4           4  20-Sep-2020  2020.0  Unprovoked        USA            Florida   \n",
       "\n",
       "                                            Location      Activity Sex  \\\n",
       "0                          Kelp Beds Beach (Kelpies)       Surfing   M   \n",
       "1                     Miami Beach, Miami-Dade County  Body Surfing   M   \n",
       "2  Toms Surf break, Hamersley Pool, North Beach, ...       Surfing   M   \n",
       "3                          Charley Young Beach, Maui      Swimming   F   \n",
       "4                   Sombero Key Light, Monroe County    Snorkeling   M   \n",
       "\n",
       "      Injury Fatal (Y/N)       Time                       Species   \n",
       "0      Fatal           Y      10h45                            NaN  \n",
       "1   Survived           N  Afternoon                 Blacktip shark  \n",
       "2  No Injury           N      10h45             Bronze whaler 1.5m  \n",
       "3   Survived           N      11h00  Injures not caused by a shark  \n",
       "4   Survived           N      10h30                     Bull shark  "
      ]
     },
     "execution_count": 3,
     "metadata": {},
     "output_type": "execute_result"
    }
   ],
   "source": [
    "df.head()"
   ]
  },
  {
   "cell_type": "code",
   "execution_count": 5,
   "metadata": {
    "ExecuteTime": {
     "end_time": "2021-02-12T21:24:09.671903Z",
     "start_time": "2021-02-12T21:24:09.648095Z"
    }
   },
   "outputs": [],
   "source": [
    "df.drop(['Unnamed: 0'], axis=1, inplace=True)"
   ]
  },
  {
   "cell_type": "code",
   "execution_count": null,
   "metadata": {},
   "outputs": [],
   "source": []
  }
 ],
 "metadata": {
  "kernelspec": {
   "display_name": "Python 3",
   "language": "python",
   "name": "python3"
  },
  "language_info": {
   "codemirror_mode": {
    "name": "ipython",
    "version": 3
   },
   "file_extension": ".py",
   "mimetype": "text/x-python",
   "name": "python",
   "nbconvert_exporter": "python",
   "pygments_lexer": "ipython3",
   "version": "3.6.9"
  },
  "toc": {
   "base_numbering": 1,
   "nav_menu": {},
   "number_sections": true,
   "sideBar": true,
   "skip_h1_title": false,
   "title_cell": "Table of Contents",
   "title_sidebar": "Contents",
   "toc_cell": false,
   "toc_position": {},
   "toc_section_display": true,
   "toc_window_display": false
  },
  "varInspector": {
   "cols": {
    "lenName": 16,
    "lenType": 16,
    "lenVar": 40
   },
   "kernels_config": {
    "python": {
     "delete_cmd_postfix": "",
     "delete_cmd_prefix": "del ",
     "library": "var_list.py",
     "varRefreshCmd": "print(var_dic_list())"
    },
    "r": {
     "delete_cmd_postfix": ") ",
     "delete_cmd_prefix": "rm(",
     "library": "var_list.r",
     "varRefreshCmd": "cat(var_dic_list()) "
    }
   },
   "types_to_exclude": [
    "module",
    "function",
    "builtin_function_or_method",
    "instance",
    "_Feature"
   ],
   "window_display": false
  }
 },
 "nbformat": 4,
 "nbformat_minor": 2
}
