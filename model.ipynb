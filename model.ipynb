{
 "cells": [
  {
   "cell_type": "code",
   "execution_count": 1,
   "metadata": {
    "ExecuteTime": {
     "end_time": "2021-03-05T15:54:29.842537Z",
     "start_time": "2021-03-05T15:54:27.971662Z"
    }
   },
   "outputs": [],
   "source": [
    "import pandas as pd\n",
    "pd.set_option('display.max_columns', None)\n",
    "pd.set_option('display.max_rows', None)"
   ]
  },
  {
   "cell_type": "code",
   "execution_count": 2,
   "metadata": {
    "ExecuteTime": {
     "end_time": "2021-03-05T15:54:29.914956Z",
     "start_time": "2021-03-05T15:54:29.842537Z"
    }
   },
   "outputs": [],
   "source": [
    "df = pd.read_csv('shark_clean.csv')"
   ]
  },
  {
   "cell_type": "code",
   "execution_count": 3,
   "metadata": {
    "ExecuteTime": {
     "end_time": "2021-03-05T15:54:29.991996Z",
     "start_time": "2021-03-05T15:54:29.915335Z"
    }
   },
   "outputs": [
    {
     "data": {
      "text/html": [
       "<div>\n",
       "<style scoped>\n",
       "    .dataframe tbody tr th:only-of-type {\n",
       "        vertical-align: middle;\n",
       "    }\n",
       "\n",
       "    .dataframe tbody tr th {\n",
       "        vertical-align: top;\n",
       "    }\n",
       "\n",
       "    .dataframe thead th {\n",
       "        text-align: right;\n",
       "    }\n",
       "</style>\n",
       "<table border=\"1\" class=\"dataframe\">\n",
       "  <thead>\n",
       "    <tr style=\"text-align: right;\">\n",
       "      <th></th>\n",
       "      <th>Unnamed: 0</th>\n",
       "      <th>Date</th>\n",
       "      <th>Year</th>\n",
       "      <th>Type</th>\n",
       "      <th>Country</th>\n",
       "      <th>Area</th>\n",
       "      <th>Location</th>\n",
       "      <th>Activity</th>\n",
       "      <th>Sex</th>\n",
       "      <th>Injury</th>\n",
       "      <th>Fatal (Y/N)</th>\n",
       "      <th>Time</th>\n",
       "      <th>Species</th>\n",
       "    </tr>\n",
       "  </thead>\n",
       "  <tbody>\n",
       "    <tr>\n",
       "      <td>0</td>\n",
       "      <td>0</td>\n",
       "      <td>09-Oct-2020</td>\n",
       "      <td>2020.0</td>\n",
       "      <td>Unprovoked</td>\n",
       "      <td>AUSTRALIA</td>\n",
       "      <td>Western Australia</td>\n",
       "      <td>Kelp Beds Beach (Kelpies)</td>\n",
       "      <td>Surfing</td>\n",
       "      <td>M</td>\n",
       "      <td>Fatal</td>\n",
       "      <td>Y</td>\n",
       "      <td>10h45</td>\n",
       "      <td>Not Available</td>\n",
       "    </tr>\n",
       "    <tr>\n",
       "      <td>1</td>\n",
       "      <td>1</td>\n",
       "      <td>07-Oct-2020</td>\n",
       "      <td>2020.0</td>\n",
       "      <td>Unprovoked</td>\n",
       "      <td>USA</td>\n",
       "      <td>Florida</td>\n",
       "      <td>Miami Beach, Miami-Dade County</td>\n",
       "      <td>Body Surfing</td>\n",
       "      <td>M</td>\n",
       "      <td>Survived</td>\n",
       "      <td>N</td>\n",
       "      <td>Afternoon</td>\n",
       "      <td>Blacktip shark</td>\n",
       "    </tr>\n",
       "    <tr>\n",
       "      <td>2</td>\n",
       "      <td>2</td>\n",
       "      <td>04-Oct-2020</td>\n",
       "      <td>2020.0</td>\n",
       "      <td>Unprovoked</td>\n",
       "      <td>AUSTRALIA</td>\n",
       "      <td>Western Australia</td>\n",
       "      <td>Toms Surf break, Hamersley Pool, North Beach, ...</td>\n",
       "      <td>Surfing</td>\n",
       "      <td>M</td>\n",
       "      <td>No Injury</td>\n",
       "      <td>N</td>\n",
       "      <td>10h45</td>\n",
       "      <td>Bronze whaler 1.5m</td>\n",
       "    </tr>\n",
       "    <tr>\n",
       "      <td>3</td>\n",
       "      <td>4</td>\n",
       "      <td>20-Sep-2020</td>\n",
       "      <td>2020.0</td>\n",
       "      <td>Unprovoked</td>\n",
       "      <td>USA</td>\n",
       "      <td>Florida</td>\n",
       "      <td>Sombero Key Light, Monroe County</td>\n",
       "      <td>Snorkeling</td>\n",
       "      <td>M</td>\n",
       "      <td>Survived</td>\n",
       "      <td>N</td>\n",
       "      <td>10h30</td>\n",
       "      <td>Bull shark</td>\n",
       "    </tr>\n",
       "    <tr>\n",
       "      <td>4</td>\n",
       "      <td>5</td>\n",
       "      <td>17-Sep-2020</td>\n",
       "      <td>2020.0</td>\n",
       "      <td>Provoked</td>\n",
       "      <td>AUSTRALIA</td>\n",
       "      <td>Queensland</td>\n",
       "      <td>Fraser Island</td>\n",
       "      <td>Fishing</td>\n",
       "      <td>M</td>\n",
       "      <td>Survived</td>\n",
       "      <td>N</td>\n",
       "      <td>16h00</td>\n",
       "      <td>\"whitetip shark\"</td>\n",
       "    </tr>\n",
       "  </tbody>\n",
       "</table>\n",
       "</div>"
      ],
      "text/plain": [
       "   Unnamed: 0         Date    Year        Type    Country               Area  \\\n",
       "0           0  09-Oct-2020  2020.0  Unprovoked  AUSTRALIA  Western Australia   \n",
       "1           1  07-Oct-2020  2020.0  Unprovoked        USA            Florida   \n",
       "2           2  04-Oct-2020  2020.0  Unprovoked  AUSTRALIA  Western Australia   \n",
       "3           4  20-Sep-2020  2020.0  Unprovoked        USA            Florida   \n",
       "4           5  17-Sep-2020  2020.0    Provoked  AUSTRALIA         Queensland   \n",
       "\n",
       "                                            Location      Activity Sex  \\\n",
       "0                          Kelp Beds Beach (Kelpies)       Surfing   M   \n",
       "1                     Miami Beach, Miami-Dade County  Body Surfing   M   \n",
       "2  Toms Surf break, Hamersley Pool, North Beach, ...       Surfing   M   \n",
       "3                   Sombero Key Light, Monroe County    Snorkeling   M   \n",
       "4                                      Fraser Island       Fishing   M   \n",
       "\n",
       "      Injury Fatal (Y/N)       Time            Species   \n",
       "0      Fatal           Y      10h45       Not Available  \n",
       "1   Survived           N  Afternoon      Blacktip shark  \n",
       "2  No Injury           N      10h45  Bronze whaler 1.5m  \n",
       "3   Survived           N      10h30          Bull shark  \n",
       "4   Survived           N      16h00    \"whitetip shark\"  "
      ]
     },
     "execution_count": 3,
     "metadata": {},
     "output_type": "execute_result"
    }
   ],
   "source": [
    "df.head()"
   ]
  },
  {
   "cell_type": "code",
   "execution_count": 4,
   "metadata": {
    "ExecuteTime": {
     "end_time": "2021-03-05T15:54:30.017478Z",
     "start_time": "2021-03-05T15:54:29.991996Z"
    }
   },
   "outputs": [],
   "source": [
    "df.drop(['Unnamed: 0', 'Area', 'Fatal (Y/N)', 'Location', 'Time'], axis=1, inplace=True)"
   ]
  },
  {
   "cell_type": "code",
   "execution_count": 5,
   "metadata": {
    "ExecuteTime": {
     "end_time": "2021-03-05T15:54:30.132144Z",
     "start_time": "2021-03-05T15:54:30.017478Z"
    }
   },
   "outputs": [
    {
     "name": "stdout",
     "output_type": "stream",
     "text": [
      "Date /n\n",
      "1957    0.001528\n",
      "1958    0.001189\n",
      "1950    0.001189\n",
      "1941    0.001189\n",
      "1942    0.001189\n",
      "Name: Date, dtype: float64\n",
      "-----------------\n",
      "Year /n\n",
      "2015.0    0.022075\n",
      "2017.0    0.021056\n",
      "2016.0    0.020207\n",
      "0.0       0.020207\n",
      "2011.0    0.020037\n",
      "Name: Year, dtype: float64\n",
      "-----------------\n",
      "Type /n\n",
      "Unprovoked      0.797928\n",
      "Provoked        0.099677\n",
      "Watercraft      0.056546\n",
      "Sea Disaster    0.038377\n",
      "Invalid         0.004245\n",
      "Name: Type, dtype: float64\n",
      "-----------------\n",
      "Country /n\n",
      "USA                 0.365597\n",
      "AUSTRALIA           0.213619\n",
      "SOUTH AFRICA        0.088130\n",
      "PAPUA NEW GUINEA    0.022075\n",
      "NEW ZEALAND         0.021056\n",
      "Name: Country, dtype: float64\n",
      "-----------------\n",
      "Activity /n\n",
      "Surfing          0.169808\n",
      "Swimming         0.134318\n",
      "Fishing          0.074206\n",
      "Not Available    0.065716\n",
      "Spearfishing     0.055357\n",
      "Name: Activity, dtype: float64\n",
      "-----------------\n",
      "Sex /n\n",
      "M    0.886059\n",
      "F    0.113941\n",
      "Name: Sex, dtype: float64\n",
      "-----------------\n",
      "Injury /n\n",
      "Survived     0.671761\n",
      "Fatal        0.211411\n",
      "No Injury    0.116828\n",
      "Name: Injury, dtype: float64\n",
      "-----------------\n",
      "Species  /n\n",
      "Not Available    0.478859\n",
      "White shark      0.029037\n",
      "Tiger shark      0.013754\n",
      "Bull shark       0.009509\n",
      "4' shark         0.006962\n",
      "Name: Species , dtype: float64\n",
      "-----------------\n"
     ]
    }
   ],
   "source": [
    "for i in df:\n",
    "    print(i, '/n')\n",
    "    \n",
    "    print(df[i].value_counts(normalize=True).head())\n",
    "    print('-----------------')"
   ]
  },
  {
   "cell_type": "markdown",
   "metadata": {},
   "source": [
    "# Creating Categoricals"
   ]
  },
  {
   "cell_type": "markdown",
   "metadata": {},
   "source": [
    "## Date Categoricals"
   ]
  },
  {
   "cell_type": "code",
   "execution_count": 6,
   "metadata": {
    "ExecuteTime": {
     "end_time": "2021-03-05T15:54:30.160716Z",
     "start_time": "2021-03-05T15:54:30.132261Z"
    }
   },
   "outputs": [],
   "source": [
    "df['Year'] = [i[-4:] for i in df['Date']]"
   ]
  },
  {
   "cell_type": "code",
   "execution_count": 7,
   "metadata": {
    "ExecuteTime": {
     "end_time": "2021-03-05T15:54:31.653811Z",
     "start_time": "2021-03-05T15:54:30.160716Z"
    }
   },
   "outputs": [],
   "source": [
    "for i, d in enumerate(df['Year']):\n",
    "    try:\n",
    "        df['Year'][i] = int(d)\n",
    "    except:\n",
    "        df['Year'][i] = 0"
   ]
  },
  {
   "cell_type": "code",
   "execution_count": 8,
   "metadata": {
    "ExecuteTime": {
     "end_time": "2021-03-05T15:54:31.671298Z",
     "start_time": "2021-03-05T15:54:31.653811Z"
    }
   },
   "outputs": [],
   "source": [
    "months = ['Jan', 'Feb', 'Mar', 'Apr', 'May', 'Jun', 'Jul', 'Aug', 'Sep', 'Oct', 'Nov', 'Dec']"
   ]
  },
  {
   "cell_type": "code",
   "execution_count": 9,
   "metadata": {
    "ExecuteTime": {
     "end_time": "2021-03-05T15:54:31.710557Z",
     "start_time": "2021-03-05T15:54:31.673815Z"
    }
   },
   "outputs": [],
   "source": [
    "df['Month'] = 'NA'"
   ]
  },
  {
   "cell_type": "code",
   "execution_count": 10,
   "metadata": {
    "ExecuteTime": {
     "end_time": "2021-03-05T15:54:33.305573Z",
     "start_time": "2021-03-05T15:54:31.714743Z"
    }
   },
   "outputs": [],
   "source": [
    "for i, d in enumerate(df['Date']):\n",
    "    for m in months:\n",
    "        if d.find(m) != -1:\n",
    "            s = d.find(m)\n",
    "            df['Month'][i] = d[s:s+3]"
   ]
  },
  {
   "cell_type": "code",
   "execution_count": 11,
   "metadata": {
    "ExecuteTime": {
     "end_time": "2021-03-05T15:54:33.322319Z",
     "start_time": "2021-03-05T15:54:33.305573Z"
    }
   },
   "outputs": [],
   "source": [
    "m = pd.get_dummies(df['Month'])"
   ]
  },
  {
   "cell_type": "code",
   "execution_count": 12,
   "metadata": {
    "ExecuteTime": {
     "end_time": "2021-03-05T15:54:33.368243Z",
     "start_time": "2021-03-05T15:54:33.326658Z"
    }
   },
   "outputs": [],
   "source": [
    "df = pd.concat([df,m], axis=1)\n",
    "df.drop(['Date', 'NA'], axis=1, inplace=True)"
   ]
  },
  {
   "cell_type": "markdown",
   "metadata": {},
   "source": [
    "## Type categoricals"
   ]
  },
  {
   "cell_type": "code",
   "execution_count": 13,
   "metadata": {
    "ExecuteTime": {
     "end_time": "2021-03-05T15:54:33.393503Z",
     "start_time": "2021-03-05T15:54:33.368243Z"
    }
   },
   "outputs": [],
   "source": [
    "def make_dummy(col):\n",
    "    top_4_values = df[col].value_counts()[:4]\n",
    "    other_values = df[col].value_counts()[4:]\n",
    "    \n",
    "    for name in top_4_values.keys():\n",
    "        df.loc[df[col] == name, f'{col}: {name}'] =1\n",
    "        \n",
    "    for name in other_values.keys():\n",
    "        df.loc[df[col] == name, f'{col}: other'] =1\n",
    "    \n",
    "    df.drop(col, axis=1, inplace=True)"
   ]
  },
  {
   "cell_type": "code",
   "execution_count": 14,
   "metadata": {
    "ExecuteTime": {
     "end_time": "2021-03-05T15:54:34.922546Z",
     "start_time": "2021-03-05T15:54:33.393503Z"
    }
   },
   "outputs": [],
   "source": [
    "make_dummy('Type')"
   ]
  },
  {
   "cell_type": "markdown",
   "metadata": {},
   "source": [
    "## Other Categoricals "
   ]
  },
  {
   "cell_type": "code",
   "execution_count": 15,
   "metadata": {
    "ExecuteTime": {
     "end_time": "2021-03-05T16:02:48.221818Z",
     "start_time": "2021-03-05T15:54:34.922546Z"
    }
   },
   "outputs": [],
   "source": [
    "categoricals = ['Country', 'Activity', 'Sex', 'Species ']\n",
    "for i in categoricals:\n",
    "    make_dummy(i)"
   ]
  },
  {
   "cell_type": "code",
   "execution_count": 16,
   "metadata": {
    "ExecuteTime": {
     "end_time": "2021-03-05T16:02:48.253024Z",
     "start_time": "2021-03-05T16:02:48.221818Z"
    }
   },
   "outputs": [],
   "source": [
    "df.fillna(0, inplace=True)"
   ]
  },
  {
   "cell_type": "code",
   "execution_count": 19,
   "metadata": {
    "ExecuteTime": {
     "end_time": "2021-03-05T16:06:17.813693Z",
     "start_time": "2021-03-05T16:06:17.346841Z"
    }
   },
   "outputs": [],
   "source": [
    "df.to_csv('shark_model.csv')"
   ]
  },
  {
   "cell_type": "markdown",
   "metadata": {},
   "source": [
    "# Model"
   ]
  },
  {
   "cell_type": "code",
   "execution_count": 23,
   "metadata": {
    "ExecuteTime": {
     "end_time": "2021-03-05T16:18:40.470025Z",
     "start_time": "2021-03-05T16:18:40.421699Z"
    }
   },
   "outputs": [
    {
     "ename": "KeyError",
     "evalue": "\"['Injury'] not found in axis\"",
     "output_type": "error",
     "traceback": [
      "\u001b[1;31m---------------------------------------------------------------------------\u001b[0m",
      "\u001b[1;31mKeyError\u001b[0m                                  Traceback (most recent call last)",
      "\u001b[1;32m<ipython-input-23-71f45cf6c990>\u001b[0m in \u001b[0;36m<module>\u001b[1;34m\u001b[0m\n\u001b[1;32m----> 1\u001b[1;33m \u001b[0mX\u001b[0m \u001b[1;33m=\u001b[0m \u001b[0mdf\u001b[0m\u001b[1;33m.\u001b[0m\u001b[0mdrop\u001b[0m\u001b[1;33m(\u001b[0m\u001b[1;33m[\u001b[0m\u001b[1;34m'Injury'\u001b[0m\u001b[1;33m]\u001b[0m\u001b[1;33m,\u001b[0m \u001b[0maxis\u001b[0m \u001b[1;33m=\u001b[0m \u001b[1;36m1\u001b[0m\u001b[1;33m)\u001b[0m\u001b[1;33m\u001b[0m\u001b[1;33m\u001b[0m\u001b[0m\n\u001b[0m\u001b[0;32m      2\u001b[0m \u001b[0my\u001b[0m \u001b[1;33m=\u001b[0m \u001b[0mdf\u001b[0m\u001b[1;33m[\u001b[0m\u001b[1;34m'Injury'\u001b[0m\u001b[1;33m]\u001b[0m\u001b[1;33m\u001b[0m\u001b[1;33m\u001b[0m\u001b[0m\n",
      "\u001b[1;32m~\\anaconda3\\envs\\learn-env\\lib\\site-packages\\pandas\\core\\frame.py\u001b[0m in \u001b[0;36mdrop\u001b[1;34m(self, labels, axis, index, columns, level, inplace, errors)\u001b[0m\n\u001b[0;32m   4100\u001b[0m             \u001b[0mlevel\u001b[0m\u001b[1;33m=\u001b[0m\u001b[0mlevel\u001b[0m\u001b[1;33m,\u001b[0m\u001b[1;33m\u001b[0m\u001b[1;33m\u001b[0m\u001b[0m\n\u001b[0;32m   4101\u001b[0m             \u001b[0minplace\u001b[0m\u001b[1;33m=\u001b[0m\u001b[0minplace\u001b[0m\u001b[1;33m,\u001b[0m\u001b[1;33m\u001b[0m\u001b[1;33m\u001b[0m\u001b[0m\n\u001b[1;32m-> 4102\u001b[1;33m             \u001b[0merrors\u001b[0m\u001b[1;33m=\u001b[0m\u001b[0merrors\u001b[0m\u001b[1;33m,\u001b[0m\u001b[1;33m\u001b[0m\u001b[1;33m\u001b[0m\u001b[0m\n\u001b[0m\u001b[0;32m   4103\u001b[0m         )\n\u001b[0;32m   4104\u001b[0m \u001b[1;33m\u001b[0m\u001b[0m\n",
      "\u001b[1;32m~\\anaconda3\\envs\\learn-env\\lib\\site-packages\\pandas\\core\\generic.py\u001b[0m in \u001b[0;36mdrop\u001b[1;34m(self, labels, axis, index, columns, level, inplace, errors)\u001b[0m\n\u001b[0;32m   3912\u001b[0m         \u001b[1;32mfor\u001b[0m \u001b[0maxis\u001b[0m\u001b[1;33m,\u001b[0m \u001b[0mlabels\u001b[0m \u001b[1;32min\u001b[0m \u001b[0maxes\u001b[0m\u001b[1;33m.\u001b[0m\u001b[0mitems\u001b[0m\u001b[1;33m(\u001b[0m\u001b[1;33m)\u001b[0m\u001b[1;33m:\u001b[0m\u001b[1;33m\u001b[0m\u001b[1;33m\u001b[0m\u001b[0m\n\u001b[0;32m   3913\u001b[0m             \u001b[1;32mif\u001b[0m \u001b[0mlabels\u001b[0m \u001b[1;32mis\u001b[0m \u001b[1;32mnot\u001b[0m \u001b[1;32mNone\u001b[0m\u001b[1;33m:\u001b[0m\u001b[1;33m\u001b[0m\u001b[1;33m\u001b[0m\u001b[0m\n\u001b[1;32m-> 3914\u001b[1;33m                 \u001b[0mobj\u001b[0m \u001b[1;33m=\u001b[0m \u001b[0mobj\u001b[0m\u001b[1;33m.\u001b[0m\u001b[0m_drop_axis\u001b[0m\u001b[1;33m(\u001b[0m\u001b[0mlabels\u001b[0m\u001b[1;33m,\u001b[0m \u001b[0maxis\u001b[0m\u001b[1;33m,\u001b[0m \u001b[0mlevel\u001b[0m\u001b[1;33m=\u001b[0m\u001b[0mlevel\u001b[0m\u001b[1;33m,\u001b[0m \u001b[0merrors\u001b[0m\u001b[1;33m=\u001b[0m\u001b[0merrors\u001b[0m\u001b[1;33m)\u001b[0m\u001b[1;33m\u001b[0m\u001b[1;33m\u001b[0m\u001b[0m\n\u001b[0m\u001b[0;32m   3915\u001b[0m \u001b[1;33m\u001b[0m\u001b[0m\n\u001b[0;32m   3916\u001b[0m         \u001b[1;32mif\u001b[0m \u001b[0minplace\u001b[0m\u001b[1;33m:\u001b[0m\u001b[1;33m\u001b[0m\u001b[1;33m\u001b[0m\u001b[0m\n",
      "\u001b[1;32m~\\anaconda3\\envs\\learn-env\\lib\\site-packages\\pandas\\core\\generic.py\u001b[0m in \u001b[0;36m_drop_axis\u001b[1;34m(self, labels, axis, level, errors)\u001b[0m\n\u001b[0;32m   3944\u001b[0m                 \u001b[0mnew_axis\u001b[0m \u001b[1;33m=\u001b[0m \u001b[0maxis\u001b[0m\u001b[1;33m.\u001b[0m\u001b[0mdrop\u001b[0m\u001b[1;33m(\u001b[0m\u001b[0mlabels\u001b[0m\u001b[1;33m,\u001b[0m \u001b[0mlevel\u001b[0m\u001b[1;33m=\u001b[0m\u001b[0mlevel\u001b[0m\u001b[1;33m,\u001b[0m \u001b[0merrors\u001b[0m\u001b[1;33m=\u001b[0m\u001b[0merrors\u001b[0m\u001b[1;33m)\u001b[0m\u001b[1;33m\u001b[0m\u001b[1;33m\u001b[0m\u001b[0m\n\u001b[0;32m   3945\u001b[0m             \u001b[1;32melse\u001b[0m\u001b[1;33m:\u001b[0m\u001b[1;33m\u001b[0m\u001b[1;33m\u001b[0m\u001b[0m\n\u001b[1;32m-> 3946\u001b[1;33m                 \u001b[0mnew_axis\u001b[0m \u001b[1;33m=\u001b[0m \u001b[0maxis\u001b[0m\u001b[1;33m.\u001b[0m\u001b[0mdrop\u001b[0m\u001b[1;33m(\u001b[0m\u001b[0mlabels\u001b[0m\u001b[1;33m,\u001b[0m \u001b[0merrors\u001b[0m\u001b[1;33m=\u001b[0m\u001b[0merrors\u001b[0m\u001b[1;33m)\u001b[0m\u001b[1;33m\u001b[0m\u001b[1;33m\u001b[0m\u001b[0m\n\u001b[0m\u001b[0;32m   3947\u001b[0m             \u001b[0mresult\u001b[0m \u001b[1;33m=\u001b[0m \u001b[0mself\u001b[0m\u001b[1;33m.\u001b[0m\u001b[0mreindex\u001b[0m\u001b[1;33m(\u001b[0m\u001b[1;33m**\u001b[0m\u001b[1;33m{\u001b[0m\u001b[0maxis_name\u001b[0m\u001b[1;33m:\u001b[0m \u001b[0mnew_axis\u001b[0m\u001b[1;33m}\u001b[0m\u001b[1;33m)\u001b[0m\u001b[1;33m\u001b[0m\u001b[1;33m\u001b[0m\u001b[0m\n\u001b[0;32m   3948\u001b[0m \u001b[1;33m\u001b[0m\u001b[0m\n",
      "\u001b[1;32m~\\anaconda3\\envs\\learn-env\\lib\\site-packages\\pandas\\core\\indexes\\base.py\u001b[0m in \u001b[0;36mdrop\u001b[1;34m(self, labels, errors)\u001b[0m\n\u001b[0;32m   5338\u001b[0m         \u001b[1;32mif\u001b[0m \u001b[0mmask\u001b[0m\u001b[1;33m.\u001b[0m\u001b[0many\u001b[0m\u001b[1;33m(\u001b[0m\u001b[1;33m)\u001b[0m\u001b[1;33m:\u001b[0m\u001b[1;33m\u001b[0m\u001b[1;33m\u001b[0m\u001b[0m\n\u001b[0;32m   5339\u001b[0m             \u001b[1;32mif\u001b[0m \u001b[0merrors\u001b[0m \u001b[1;33m!=\u001b[0m \u001b[1;34m\"ignore\"\u001b[0m\u001b[1;33m:\u001b[0m\u001b[1;33m\u001b[0m\u001b[1;33m\u001b[0m\u001b[0m\n\u001b[1;32m-> 5340\u001b[1;33m                 \u001b[1;32mraise\u001b[0m \u001b[0mKeyError\u001b[0m\u001b[1;33m(\u001b[0m\u001b[1;34m\"{} not found in axis\"\u001b[0m\u001b[1;33m.\u001b[0m\u001b[0mformat\u001b[0m\u001b[1;33m(\u001b[0m\u001b[0mlabels\u001b[0m\u001b[1;33m[\u001b[0m\u001b[0mmask\u001b[0m\u001b[1;33m]\u001b[0m\u001b[1;33m)\u001b[0m\u001b[1;33m)\u001b[0m\u001b[1;33m\u001b[0m\u001b[1;33m\u001b[0m\u001b[0m\n\u001b[0m\u001b[0;32m   5341\u001b[0m             \u001b[0mindexer\u001b[0m \u001b[1;33m=\u001b[0m \u001b[0mindexer\u001b[0m\u001b[1;33m[\u001b[0m\u001b[1;33m~\u001b[0m\u001b[0mmask\u001b[0m\u001b[1;33m]\u001b[0m\u001b[1;33m\u001b[0m\u001b[1;33m\u001b[0m\u001b[0m\n\u001b[0;32m   5342\u001b[0m         \u001b[1;32mreturn\u001b[0m \u001b[0mself\u001b[0m\u001b[1;33m.\u001b[0m\u001b[0mdelete\u001b[0m\u001b[1;33m(\u001b[0m\u001b[0mindexer\u001b[0m\u001b[1;33m)\u001b[0m\u001b[1;33m\u001b[0m\u001b[1;33m\u001b[0m\u001b[0m\n",
      "\u001b[1;31mKeyError\u001b[0m: \"['Injury'] not found in axis\""
     ]
    }
   ],
   "source": [
    "X = df.drop(['Injury'], axis = 1)\n",
    "y = df['Injury']"
   ]
  },
  {
   "cell_type": "code",
   "execution_count": null,
   "metadata": {},
   "outputs": [],
   "source": []
  }
 ],
 "metadata": {
  "kernelspec": {
   "display_name": "Python 3",
   "language": "python",
   "name": "python3"
  },
  "language_info": {
   "codemirror_mode": {
    "name": "ipython",
    "version": 3
   },
   "file_extension": ".py",
   "mimetype": "text/x-python",
   "name": "python",
   "nbconvert_exporter": "python",
   "pygments_lexer": "ipython3",
   "version": "3.6.9"
  },
  "toc": {
   "base_numbering": 1,
   "nav_menu": {},
   "number_sections": true,
   "sideBar": true,
   "skip_h1_title": false,
   "title_cell": "Table of Contents",
   "title_sidebar": "Contents",
   "toc_cell": false,
   "toc_position": {},
   "toc_section_display": true,
   "toc_window_display": true
  },
  "varInspector": {
   "cols": {
    "lenName": 16,
    "lenType": 16,
    "lenVar": 40
   },
   "kernels_config": {
    "python": {
     "delete_cmd_postfix": "",
     "delete_cmd_prefix": "del ",
     "library": "var_list.py",
     "varRefreshCmd": "print(var_dic_list())"
    },
    "r": {
     "delete_cmd_postfix": ") ",
     "delete_cmd_prefix": "rm(",
     "library": "var_list.r",
     "varRefreshCmd": "cat(var_dic_list()) "
    }
   },
   "types_to_exclude": [
    "module",
    "function",
    "builtin_function_or_method",
    "instance",
    "_Feature"
   ],
   "window_display": false
  }
 },
 "nbformat": 4,
 "nbformat_minor": 2
}
