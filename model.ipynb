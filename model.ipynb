{
 "cells": [
  {
   "cell_type": "code",
   "execution_count": 16,
   "metadata": {
    "ExecuteTime": {
     "end_time": "2021-03-10T21:19:06.149445Z",
     "start_time": "2021-03-10T21:19:06.142499Z"
    }
   },
   "outputs": [],
   "source": [
    "import pandas as pd\n",
    "pd.set_option('display.max_columns', None)\n",
    "pd.set_option('display.max_rows', None)"
   ]
  },
  {
   "cell_type": "code",
   "execution_count": 17,
   "metadata": {
    "ExecuteTime": {
     "end_time": "2021-03-10T21:19:07.146014Z",
     "start_time": "2021-03-10T21:19:07.100730Z"
    }
   },
   "outputs": [],
   "source": [
    "df = pd.read_csv('shark_clean.csv')"
   ]
  },
  {
   "cell_type": "code",
   "execution_count": 18,
   "metadata": {
    "ExecuteTime": {
     "end_time": "2021-03-10T21:19:08.029591Z",
     "start_time": "2021-03-10T21:19:08.013795Z"
    }
   },
   "outputs": [
    {
     "data": {
      "text/html": [
       "<div>\n",
       "<style scoped>\n",
       "    .dataframe tbody tr th:only-of-type {\n",
       "        vertical-align: middle;\n",
       "    }\n",
       "\n",
       "    .dataframe tbody tr th {\n",
       "        vertical-align: top;\n",
       "    }\n",
       "\n",
       "    .dataframe thead th {\n",
       "        text-align: right;\n",
       "    }\n",
       "</style>\n",
       "<table border=\"1\" class=\"dataframe\">\n",
       "  <thead>\n",
       "    <tr style=\"text-align: right;\">\n",
       "      <th></th>\n",
       "      <th>Unnamed: 0</th>\n",
       "      <th>Date</th>\n",
       "      <th>Year</th>\n",
       "      <th>Type</th>\n",
       "      <th>Country</th>\n",
       "      <th>Area</th>\n",
       "      <th>Location</th>\n",
       "      <th>Activity</th>\n",
       "      <th>Sex</th>\n",
       "      <th>Injury</th>\n",
       "      <th>Fatal (Y/N)</th>\n",
       "      <th>Time</th>\n",
       "      <th>Species</th>\n",
       "    </tr>\n",
       "  </thead>\n",
       "  <tbody>\n",
       "    <tr>\n",
       "      <td>0</td>\n",
       "      <td>0</td>\n",
       "      <td>09-Oct-2020</td>\n",
       "      <td>2020.0</td>\n",
       "      <td>Unprovoked</td>\n",
       "      <td>AUSTRALIA</td>\n",
       "      <td>Western Australia</td>\n",
       "      <td>Kelp Beds Beach (Kelpies)</td>\n",
       "      <td>Surfing</td>\n",
       "      <td>M</td>\n",
       "      <td>Fatal</td>\n",
       "      <td>Y</td>\n",
       "      <td>10h45</td>\n",
       "      <td>Not Available</td>\n",
       "    </tr>\n",
       "    <tr>\n",
       "      <td>1</td>\n",
       "      <td>1</td>\n",
       "      <td>07-Oct-2020</td>\n",
       "      <td>2020.0</td>\n",
       "      <td>Unprovoked</td>\n",
       "      <td>USA</td>\n",
       "      <td>Florida</td>\n",
       "      <td>Miami Beach, Miami-Dade County</td>\n",
       "      <td>Body Surfing</td>\n",
       "      <td>M</td>\n",
       "      <td>Survived</td>\n",
       "      <td>N</td>\n",
       "      <td>Afternoon</td>\n",
       "      <td>Blacktip shark</td>\n",
       "    </tr>\n",
       "    <tr>\n",
       "      <td>2</td>\n",
       "      <td>2</td>\n",
       "      <td>04-Oct-2020</td>\n",
       "      <td>2020.0</td>\n",
       "      <td>Unprovoked</td>\n",
       "      <td>AUSTRALIA</td>\n",
       "      <td>Western Australia</td>\n",
       "      <td>Toms Surf break, Hamersley Pool, North Beach, ...</td>\n",
       "      <td>Surfing</td>\n",
       "      <td>M</td>\n",
       "      <td>No Injury</td>\n",
       "      <td>N</td>\n",
       "      <td>10h45</td>\n",
       "      <td>Bronze whaler 1.5m</td>\n",
       "    </tr>\n",
       "    <tr>\n",
       "      <td>3</td>\n",
       "      <td>4</td>\n",
       "      <td>20-Sep-2020</td>\n",
       "      <td>2020.0</td>\n",
       "      <td>Unprovoked</td>\n",
       "      <td>USA</td>\n",
       "      <td>Florida</td>\n",
       "      <td>Sombero Key Light, Monroe County</td>\n",
       "      <td>Snorkeling</td>\n",
       "      <td>M</td>\n",
       "      <td>Survived</td>\n",
       "      <td>N</td>\n",
       "      <td>10h30</td>\n",
       "      <td>Bull shark</td>\n",
       "    </tr>\n",
       "    <tr>\n",
       "      <td>4</td>\n",
       "      <td>5</td>\n",
       "      <td>17-Sep-2020</td>\n",
       "      <td>2020.0</td>\n",
       "      <td>Provoked</td>\n",
       "      <td>AUSTRALIA</td>\n",
       "      <td>Queensland</td>\n",
       "      <td>Fraser Island</td>\n",
       "      <td>Fishing</td>\n",
       "      <td>M</td>\n",
       "      <td>Survived</td>\n",
       "      <td>N</td>\n",
       "      <td>16h00</td>\n",
       "      <td>\"whitetip shark\"</td>\n",
       "    </tr>\n",
       "  </tbody>\n",
       "</table>\n",
       "</div>"
      ],
      "text/plain": [
       "   Unnamed: 0         Date    Year        Type    Country               Area  \\\n",
       "0           0  09-Oct-2020  2020.0  Unprovoked  AUSTRALIA  Western Australia   \n",
       "1           1  07-Oct-2020  2020.0  Unprovoked        USA            Florida   \n",
       "2           2  04-Oct-2020  2020.0  Unprovoked  AUSTRALIA  Western Australia   \n",
       "3           4  20-Sep-2020  2020.0  Unprovoked        USA            Florida   \n",
       "4           5  17-Sep-2020  2020.0    Provoked  AUSTRALIA         Queensland   \n",
       "\n",
       "                                            Location      Activity Sex  \\\n",
       "0                          Kelp Beds Beach (Kelpies)       Surfing   M   \n",
       "1                     Miami Beach, Miami-Dade County  Body Surfing   M   \n",
       "2  Toms Surf break, Hamersley Pool, North Beach, ...       Surfing   M   \n",
       "3                   Sombero Key Light, Monroe County    Snorkeling   M   \n",
       "4                                      Fraser Island       Fishing   M   \n",
       "\n",
       "      Injury Fatal (Y/N)       Time            Species   \n",
       "0      Fatal           Y      10h45       Not Available  \n",
       "1   Survived           N  Afternoon      Blacktip shark  \n",
       "2  No Injury           N      10h45  Bronze whaler 1.5m  \n",
       "3   Survived           N      10h30          Bull shark  \n",
       "4   Survived           N      16h00    \"whitetip shark\"  "
      ]
     },
     "execution_count": 18,
     "metadata": {},
     "output_type": "execute_result"
    }
   ],
   "source": [
    "df.head()"
   ]
  },
  {
   "cell_type": "code",
   "execution_count": 19,
   "metadata": {
    "ExecuteTime": {
     "end_time": "2021-03-10T21:19:08.893321Z",
     "start_time": "2021-03-10T21:19:08.879347Z"
    }
   },
   "outputs": [],
   "source": [
    "df.drop(['Unnamed: 0', 'Area', 'Fatal (Y/N)', 'Location', 'Time'], axis=1, inplace=True)"
   ]
  },
  {
   "cell_type": "code",
   "execution_count": 20,
   "metadata": {
    "ExecuteTime": {
     "end_time": "2021-03-10T21:19:09.646220Z",
     "start_time": "2021-03-10T21:19:09.602084Z"
    }
   },
   "outputs": [
    {
     "name": "stdout",
     "output_type": "stream",
     "text": [
      "Date /n\n",
      "1957    0.001528\n",
      "1941    0.001189\n",
      "1942    0.001189\n",
      "1950    0.001189\n",
      "1958    0.001189\n",
      "Name: Date, dtype: float64\n",
      "-----------------\n",
      "Year /n\n",
      "2015.0    0.022075\n",
      "2017.0    0.021056\n",
      "2016.0    0.020207\n",
      "0.0       0.020207\n",
      "2011.0    0.020037\n",
      "Name: Year, dtype: float64\n",
      "-----------------\n",
      "Type /n\n",
      "Unprovoked      0.797928\n",
      "Provoked        0.099677\n",
      "Watercraft      0.056546\n",
      "Sea Disaster    0.038377\n",
      "Invalid         0.004245\n",
      "Name: Type, dtype: float64\n",
      "-----------------\n",
      "Country /n\n",
      "USA                 0.365597\n",
      "AUSTRALIA           0.213619\n",
      "SOUTH AFRICA        0.088130\n",
      "PAPUA NEW GUINEA    0.022075\n",
      "NEW ZEALAND         0.021056\n",
      "Name: Country, dtype: float64\n",
      "-----------------\n",
      "Activity /n\n",
      "Surfing          0.169808\n",
      "Swimming         0.134318\n",
      "Fishing          0.074206\n",
      "Not Available    0.065716\n",
      "Spearfishing     0.055357\n",
      "Name: Activity, dtype: float64\n",
      "-----------------\n",
      "Sex /n\n",
      "M    0.886059\n",
      "F    0.113941\n",
      "Name: Sex, dtype: float64\n",
      "-----------------\n",
      "Injury /n\n",
      "Survived     0.671761\n",
      "Fatal        0.211411\n",
      "No Injury    0.116828\n",
      "Name: Injury, dtype: float64\n",
      "-----------------\n",
      "Species  /n\n",
      "Not Available    0.478859\n",
      "White shark      0.029037\n",
      "Tiger shark      0.013754\n",
      "Bull shark       0.009509\n",
      "4' shark         0.006962\n",
      "Name: Species , dtype: float64\n",
      "-----------------\n"
     ]
    }
   ],
   "source": [
    "for i in df:\n",
    "    print(i, '/n')\n",
    "    \n",
    "    print(df[i].value_counts(normalize=True).head())\n",
    "    print('-----------------')"
   ]
  },
  {
   "cell_type": "markdown",
   "metadata": {},
   "source": [
    "# Creating Categoricals"
   ]
  },
  {
   "cell_type": "markdown",
   "metadata": {},
   "source": [
    "## Date Categoricals"
   ]
  },
  {
   "cell_type": "code",
   "execution_count": 21,
   "metadata": {
    "ExecuteTime": {
     "end_time": "2021-03-10T21:19:10.288787Z",
     "start_time": "2021-03-10T21:19:10.273715Z"
    }
   },
   "outputs": [],
   "source": [
    "df['Year'] = [i[-4:] for i in df['Date']]"
   ]
  },
  {
   "cell_type": "code",
   "execution_count": 22,
   "metadata": {
    "ExecuteTime": {
     "end_time": "2021-03-10T21:19:11.368047Z",
     "start_time": "2021-03-10T21:19:10.943128Z"
    }
   },
   "outputs": [],
   "source": [
    "for i, d in enumerate(df['Year']):\n",
    "    try:\n",
    "        df['Year'][i] = int(d)\n",
    "    except:\n",
    "        df['Year'][i] = 0"
   ]
  },
  {
   "cell_type": "code",
   "execution_count": 23,
   "metadata": {
    "ExecuteTime": {
     "end_time": "2021-03-10T21:19:12.017668Z",
     "start_time": "2021-03-10T21:19:12.003615Z"
    }
   },
   "outputs": [],
   "source": [
    "months = ['Jan', 'Feb', 'Mar', 'Apr', 'May', 'Jun', 'Jul', 'Aug', 'Sep', 'Oct', 'Nov', 'Dec']"
   ]
  },
  {
   "cell_type": "code",
   "execution_count": 24,
   "metadata": {
    "ExecuteTime": {
     "end_time": "2021-03-10T21:19:12.677029Z",
     "start_time": "2021-03-10T21:19:12.664039Z"
    }
   },
   "outputs": [],
   "source": [
    "df['Month'] = 'NA'"
   ]
  },
  {
   "cell_type": "code",
   "execution_count": 25,
   "metadata": {
    "ExecuteTime": {
     "end_time": "2021-03-10T21:19:13.932073Z",
     "start_time": "2021-03-10T21:19:13.471944Z"
    }
   },
   "outputs": [],
   "source": [
    "for i, d in enumerate(df['Date']):\n",
    "    for m in months:\n",
    "        if d.find(m) != -1:\n",
    "            s = d.find(m)\n",
    "            df['Month'][i] = d[s:s+3]"
   ]
  },
  {
   "cell_type": "code",
   "execution_count": 26,
   "metadata": {
    "ExecuteTime": {
     "end_time": "2021-03-10T21:19:14.440015Z",
     "start_time": "2021-03-10T21:19:14.427001Z"
    }
   },
   "outputs": [],
   "source": [
    "m = pd.get_dummies(df['Month'])"
   ]
  },
  {
   "cell_type": "code",
   "execution_count": 27,
   "metadata": {
    "ExecuteTime": {
     "end_time": "2021-03-10T21:19:15.168210Z",
     "start_time": "2021-03-10T21:19:15.160050Z"
    }
   },
   "outputs": [],
   "source": [
    "df = pd.concat([df,m], axis=1)\n",
    "df.drop(['Date', 'NA', 'Month'], axis=1, inplace=True)"
   ]
  },
  {
   "cell_type": "markdown",
   "metadata": {},
   "source": [
    "## Type categoricals"
   ]
  },
  {
   "cell_type": "code",
   "execution_count": 28,
   "metadata": {
    "ExecuteTime": {
     "end_time": "2021-03-10T21:19:16.090311Z",
     "start_time": "2021-03-10T21:19:16.076344Z"
    }
   },
   "outputs": [],
   "source": [
    "def make_dummy(col):\n",
    "    top_4_values = df[col].value_counts()[:4]\n",
    "    other_values = df[col].value_counts()[4:]\n",
    "    \n",
    "    for name in top_4_values.keys():\n",
    "        df.loc[df[col] == name, f'{col}: {name}'] =1\n",
    "        \n",
    "    for name in other_values.keys():\n",
    "        df.loc[df[col] == name, f'{col}: other'] =1\n",
    "    \n",
    "    df.drop(col, axis=1, inplace=True)"
   ]
  },
  {
   "cell_type": "code",
   "execution_count": 29,
   "metadata": {
    "ExecuteTime": {
     "end_time": "2021-03-10T21:19:17.345194Z",
     "start_time": "2021-03-10T21:19:16.909698Z"
    }
   },
   "outputs": [],
   "source": [
    "make_dummy('Type')"
   ]
  },
  {
   "cell_type": "markdown",
   "metadata": {},
   "source": [
    "## Other Categoricals "
   ]
  },
  {
   "cell_type": "code",
   "execution_count": 30,
   "metadata": {
    "ExecuteTime": {
     "end_time": "2021-03-10T21:21:31.731844Z",
     "start_time": "2021-03-10T21:19:18.302480Z"
    }
   },
   "outputs": [],
   "source": [
    "categoricals = ['Country', 'Activity', 'Sex', 'Species ']\n",
    "for i in categoricals:\n",
    "        make_dummy(i)\n"
   ]
  },
  {
   "cell_type": "code",
   "execution_count": 31,
   "metadata": {
    "ExecuteTime": {
     "end_time": "2021-03-10T21:21:32.994595Z",
     "start_time": "2021-03-10T21:21:32.980432Z"
    }
   },
   "outputs": [],
   "source": [
    " df.fillna(0, inplace=True)"
   ]
  },
  {
   "cell_type": "code",
   "execution_count": 32,
   "metadata": {
    "ExecuteTime": {
     "end_time": "2021-03-10T21:21:34.849650Z",
     "start_time": "2021-03-10T21:21:34.687003Z"
    }
   },
   "outputs": [],
   "source": [
    " df.to_csv('shark_model.csv')"
   ]
  },
  {
   "cell_type": "markdown",
   "metadata": {},
   "source": [
    "# Model"
   ]
  },
  {
   "cell_type": "code",
   "execution_count": 33,
   "metadata": {
    "ExecuteTime": {
     "end_time": "2021-03-10T21:22:13.023415Z",
     "start_time": "2021-03-10T21:22:13.002416Z"
    }
   },
   "outputs": [],
   "source": [
    "X = df.drop(['Injury'], axis = 1)\n",
    "y = df['Injury']"
   ]
  },
  {
   "cell_type": "code",
   "execution_count": 34,
   "metadata": {
    "ExecuteTime": {
     "end_time": "2021-03-10T21:22:17.351957Z",
     "start_time": "2021-03-10T21:22:16.118335Z"
    }
   },
   "outputs": [],
   "source": [
    "from sklearn.model_selection import train_test_split\n",
    "\n",
    "X_train, X_test, y_train, y_test = train_test_split(X, y, random_state=123)"
   ]
  },
  {
   "cell_type": "code",
   "execution_count": 35,
   "metadata": {
    "ExecuteTime": {
     "end_time": "2021-03-10T21:22:21.810425Z",
     "start_time": "2021-03-10T21:22:21.764936Z"
    }
   },
   "outputs": [],
   "source": [
    "from sklearn.preprocessing import MinMaxScaler\n",
    "mmscaler = MinMaxScaler()\n",
    "\n",
    "\n",
    "X_train_minmax = mmscaler.fit_transform(X_train)\n",
    "X_test_minmax = mmscaler.transform(X_test)"
   ]
  },
  {
   "cell_type": "markdown",
   "metadata": {},
   "source": [
    "# Logistic Regression"
   ]
  },
  {
   "cell_type": "code",
   "execution_count": 36,
   "metadata": {
    "ExecuteTime": {
     "end_time": "2021-03-10T21:26:11.736169Z",
     "start_time": "2021-03-10T21:26:11.430815Z"
    }
   },
   "outputs": [
    {
     "name": "stderr",
     "output_type": "stream",
     "text": [
      "C:\\Users\\bdtol\\anaconda3\\envs\\learn-env\\lib\\site-packages\\sklearn\\linear_model\\_logistic.py:764: ConvergenceWarning: lbfgs failed to converge (status=1):\n",
      "STOP: TOTAL NO. of ITERATIONS REACHED LIMIT.\n",
      "\n",
      "Increase the number of iterations (max_iter) or scale the data as shown in:\n",
      "    https://scikit-learn.org/stable/modules/preprocessing.html\n",
      "Please also refer to the documentation for alternative solver options:\n",
      "    https://scikit-learn.org/stable/modules/linear_model.html#logistic-regression\n",
      "  extra_warning_msg=_LOGISTIC_SOLVER_CONVERGENCE_MSG)\n"
     ]
    },
    {
     "data": {
      "text/plain": [
       "LogisticRegression(C=1000000000000.0, fit_intercept=False,\n",
       "                   multi_class='multinomial')"
      ]
     },
     "execution_count": 36,
     "metadata": {},
     "output_type": "execute_result"
    }
   ],
   "source": [
    "from sklearn.linear_model import LogisticRegression\n",
    "\n",
    "logreg = LogisticRegression(fit_intercept=False, C=1e12, multi_class = 'multinomial', solver='lbfgs')\n",
    "model_log = logreg.fit(X_train_minmax, y_train)\n",
    "model_log"
   ]
  },
  {
   "cell_type": "code",
   "execution_count": 37,
   "metadata": {
    "ExecuteTime": {
     "end_time": "2021-03-10T21:26:32.859716Z",
     "start_time": "2021-03-10T21:26:32.838778Z"
    }
   },
   "outputs": [],
   "source": [
    "y_hat_test = model_log.predict(X_test_minmax)\n",
    "y_hat_train = model_log.predict(X_train_minmax)"
   ]
  },
  {
   "cell_type": "code",
   "execution_count": 38,
   "metadata": {
    "ExecuteTime": {
     "end_time": "2021-03-10T21:26:46.765070Z",
     "start_time": "2021-03-10T21:26:46.614069Z"
    }
   },
   "outputs": [
    {
     "name": "stderr",
     "output_type": "stream",
     "text": [
      "C:\\Users\\bdtol\\anaconda3\\envs\\learn-env\\lib\\site-packages\\sklearn\\linear_model\\_logistic.py:764: ConvergenceWarning: lbfgs failed to converge (status=1):\n",
      "STOP: TOTAL NO. of ITERATIONS REACHED LIMIT.\n",
      "\n",
      "Increase the number of iterations (max_iter) or scale the data as shown in:\n",
      "    https://scikit-learn.org/stable/modules/preprocessing.html\n",
      "Please also refer to the documentation for alternative solver options:\n",
      "    https://scikit-learn.org/stable/modules/linear_model.html#logistic-regression\n",
      "  extra_warning_msg=_LOGISTIC_SOLVER_CONVERGENCE_MSG)\n"
     ]
    }
   ],
   "source": [
    "from sklearn.metrics import roc_auc_score\n",
    "\n",
    "y_score = model_log.fit(X_train_minmax, y_train).predict_proba(X_test_minmax)\n",
    "\n",
    "auc = roc_auc_score(y_test, y_score, multi_class = 'ovo')"
   ]
  },
  {
   "cell_type": "code",
   "execution_count": null,
   "metadata": {},
   "outputs": [],
   "source": []
  }
 ],
 "metadata": {
  "kernelspec": {
   "display_name": "Python 3",
   "language": "python",
   "name": "python3"
  },
  "language_info": {
   "codemirror_mode": {
    "name": "ipython",
    "version": 3
   },
   "file_extension": ".py",
   "mimetype": "text/x-python",
   "name": "python",
   "nbconvert_exporter": "python",
   "pygments_lexer": "ipython3",
   "version": "3.6.9"
  },
  "toc": {
   "base_numbering": 1,
   "nav_menu": {},
   "number_sections": true,
   "sideBar": true,
   "skip_h1_title": false,
   "title_cell": "Table of Contents",
   "title_sidebar": "Contents",
   "toc_cell": false,
   "toc_position": {},
   "toc_section_display": true,
   "toc_window_display": true
  },
  "varInspector": {
   "cols": {
    "lenName": 16,
    "lenType": 16,
    "lenVar": 40
   },
   "kernels_config": {
    "python": {
     "delete_cmd_postfix": "",
     "delete_cmd_prefix": "del ",
     "library": "var_list.py",
     "varRefreshCmd": "print(var_dic_list())"
    },
    "r": {
     "delete_cmd_postfix": ") ",
     "delete_cmd_prefix": "rm(",
     "library": "var_list.r",
     "varRefreshCmd": "cat(var_dic_list()) "
    }
   },
   "types_to_exclude": [
    "module",
    "function",
    "builtin_function_or_method",
    "instance",
    "_Feature"
   ],
   "window_display": false
  }
 },
 "nbformat": 4,
 "nbformat_minor": 2
}
