{
 "cells": [
  {
   "cell_type": "code",
   "execution_count": 124,
   "metadata": {
    "ExecuteTime": {
     "end_time": "2021-02-25T23:55:30.237342Z",
     "start_time": "2021-02-25T23:55:30.218343Z"
    }
   },
   "outputs": [],
   "source": [
    "import pandas as pd\n",
    "pd.set_option('display.max_columns', None)\n",
    "pd.set_option('display.max_rows', None)"
   ]
  },
  {
   "cell_type": "code",
   "execution_count": 125,
   "metadata": {
    "ExecuteTime": {
     "end_time": "2021-02-25T23:55:31.576452Z",
     "start_time": "2021-02-25T23:55:31.547341Z"
    }
   },
   "outputs": [],
   "source": [
    "df = pd.read_csv('shark_clean.csv')"
   ]
  },
  {
   "cell_type": "code",
   "execution_count": 126,
   "metadata": {
    "ExecuteTime": {
     "end_time": "2021-02-25T23:55:32.870809Z",
     "start_time": "2021-02-25T23:55:32.840764Z"
    }
   },
   "outputs": [
    {
     "data": {
      "text/html": [
       "<div>\n",
       "<style scoped>\n",
       "    .dataframe tbody tr th:only-of-type {\n",
       "        vertical-align: middle;\n",
       "    }\n",
       "\n",
       "    .dataframe tbody tr th {\n",
       "        vertical-align: top;\n",
       "    }\n",
       "\n",
       "    .dataframe thead th {\n",
       "        text-align: right;\n",
       "    }\n",
       "</style>\n",
       "<table border=\"1\" class=\"dataframe\">\n",
       "  <thead>\n",
       "    <tr style=\"text-align: right;\">\n",
       "      <th></th>\n",
       "      <th>Unnamed: 0</th>\n",
       "      <th>Date</th>\n",
       "      <th>Year</th>\n",
       "      <th>Type</th>\n",
       "      <th>Country</th>\n",
       "      <th>Area</th>\n",
       "      <th>Location</th>\n",
       "      <th>Activity</th>\n",
       "      <th>Sex</th>\n",
       "      <th>Injury</th>\n",
       "      <th>Fatal (Y/N)</th>\n",
       "      <th>Time</th>\n",
       "      <th>Species</th>\n",
       "    </tr>\n",
       "  </thead>\n",
       "  <tbody>\n",
       "    <tr>\n",
       "      <td>0</td>\n",
       "      <td>0</td>\n",
       "      <td>09-Oct-2020</td>\n",
       "      <td>2020.0</td>\n",
       "      <td>Unprovoked</td>\n",
       "      <td>AUSTRALIA</td>\n",
       "      <td>Western Australia</td>\n",
       "      <td>Kelp Beds Beach (Kelpies)</td>\n",
       "      <td>Surfing</td>\n",
       "      <td>M</td>\n",
       "      <td>Fatal</td>\n",
       "      <td>Y</td>\n",
       "      <td>10h45</td>\n",
       "      <td>Not Available</td>\n",
       "    </tr>\n",
       "    <tr>\n",
       "      <td>1</td>\n",
       "      <td>1</td>\n",
       "      <td>07-Oct-2020</td>\n",
       "      <td>2020.0</td>\n",
       "      <td>Unprovoked</td>\n",
       "      <td>USA</td>\n",
       "      <td>Florida</td>\n",
       "      <td>Miami Beach, Miami-Dade County</td>\n",
       "      <td>Body Surfing</td>\n",
       "      <td>M</td>\n",
       "      <td>Survived</td>\n",
       "      <td>N</td>\n",
       "      <td>Afternoon</td>\n",
       "      <td>Blacktip shark</td>\n",
       "    </tr>\n",
       "    <tr>\n",
       "      <td>2</td>\n",
       "      <td>2</td>\n",
       "      <td>04-Oct-2020</td>\n",
       "      <td>2020.0</td>\n",
       "      <td>Unprovoked</td>\n",
       "      <td>AUSTRALIA</td>\n",
       "      <td>Western Australia</td>\n",
       "      <td>Toms Surf break, Hamersley Pool, North Beach, ...</td>\n",
       "      <td>Surfing</td>\n",
       "      <td>M</td>\n",
       "      <td>No Injury</td>\n",
       "      <td>N</td>\n",
       "      <td>10h45</td>\n",
       "      <td>Bronze whaler 1.5m</td>\n",
       "    </tr>\n",
       "    <tr>\n",
       "      <td>3</td>\n",
       "      <td>4</td>\n",
       "      <td>20-Sep-2020</td>\n",
       "      <td>2020.0</td>\n",
       "      <td>Unprovoked</td>\n",
       "      <td>USA</td>\n",
       "      <td>Florida</td>\n",
       "      <td>Sombero Key Light, Monroe County</td>\n",
       "      <td>Snorkeling</td>\n",
       "      <td>M</td>\n",
       "      <td>Survived</td>\n",
       "      <td>N</td>\n",
       "      <td>10h30</td>\n",
       "      <td>Bull shark</td>\n",
       "    </tr>\n",
       "    <tr>\n",
       "      <td>4</td>\n",
       "      <td>5</td>\n",
       "      <td>17-Sep-2020</td>\n",
       "      <td>2020.0</td>\n",
       "      <td>Provoked</td>\n",
       "      <td>AUSTRALIA</td>\n",
       "      <td>Queensland</td>\n",
       "      <td>Fraser Island</td>\n",
       "      <td>Fishing</td>\n",
       "      <td>M</td>\n",
       "      <td>Survived</td>\n",
       "      <td>N</td>\n",
       "      <td>16h00</td>\n",
       "      <td>\"whitetip shark\"</td>\n",
       "    </tr>\n",
       "  </tbody>\n",
       "</table>\n",
       "</div>"
      ],
      "text/plain": [
       "   Unnamed: 0         Date    Year        Type    Country               Area  \\\n",
       "0           0  09-Oct-2020  2020.0  Unprovoked  AUSTRALIA  Western Australia   \n",
       "1           1  07-Oct-2020  2020.0  Unprovoked        USA            Florida   \n",
       "2           2  04-Oct-2020  2020.0  Unprovoked  AUSTRALIA  Western Australia   \n",
       "3           4  20-Sep-2020  2020.0  Unprovoked        USA            Florida   \n",
       "4           5  17-Sep-2020  2020.0    Provoked  AUSTRALIA         Queensland   \n",
       "\n",
       "                                            Location      Activity Sex  \\\n",
       "0                          Kelp Beds Beach (Kelpies)       Surfing   M   \n",
       "1                     Miami Beach, Miami-Dade County  Body Surfing   M   \n",
       "2  Toms Surf break, Hamersley Pool, North Beach, ...       Surfing   M   \n",
       "3                   Sombero Key Light, Monroe County    Snorkeling   M   \n",
       "4                                      Fraser Island       Fishing   M   \n",
       "\n",
       "      Injury Fatal (Y/N)       Time            Species   \n",
       "0      Fatal           Y      10h45       Not Available  \n",
       "1   Survived           N  Afternoon      Blacktip shark  \n",
       "2  No Injury           N      10h45  Bronze whaler 1.5m  \n",
       "3   Survived           N      10h30          Bull shark  \n",
       "4   Survived           N      16h00    \"whitetip shark\"  "
      ]
     },
     "execution_count": 126,
     "metadata": {},
     "output_type": "execute_result"
    }
   ],
   "source": [
    "df.head()"
   ]
  },
  {
   "cell_type": "code",
   "execution_count": 127,
   "metadata": {
    "ExecuteTime": {
     "end_time": "2021-02-25T23:55:34.117251Z",
     "start_time": "2021-02-25T23:55:34.105251Z"
    }
   },
   "outputs": [],
   "source": [
    "df.drop('Unnamed: 0', axis=1, inplace=True)"
   ]
  },
  {
   "cell_type": "code",
   "execution_count": 128,
   "metadata": {
    "ExecuteTime": {
     "end_time": "2021-02-25T23:55:35.295143Z",
     "start_time": "2021-02-25T23:55:35.281144Z"
    }
   },
   "outputs": [
    {
     "name": "stdout",
     "output_type": "stream",
     "text": [
      "<class 'pandas.core.frame.DataFrame'>\n",
      "RangeIndex: 5889 entries, 0 to 5888\n",
      "Data columns (total 12 columns):\n",
      "Date           5889 non-null object\n",
      "Year           5889 non-null float64\n",
      "Type           5889 non-null object\n",
      "Country        5889 non-null object\n",
      "Area           5889 non-null object\n",
      "Location       5889 non-null object\n",
      "Activity       5889 non-null object\n",
      "Sex            5889 non-null object\n",
      "Injury         5889 non-null object\n",
      "Fatal (Y/N)    5889 non-null object\n",
      "Time           5889 non-null object\n",
      "Species        5889 non-null object\n",
      "dtypes: float64(1), object(11)\n",
      "memory usage: 552.2+ KB\n"
     ]
    }
   ],
   "source": [
    "df.info()"
   ]
  },
  {
   "cell_type": "code",
   "execution_count": 129,
   "metadata": {
    "ExecuteTime": {
     "end_time": "2021-02-25T23:55:36.524064Z",
     "start_time": "2021-02-25T23:55:36.478074Z"
    }
   },
   "outputs": [
    {
     "name": "stdout",
     "output_type": "stream",
     "text": [
      "Date /n\n",
      "1957    0.001528\n",
      "1942    0.001189\n",
      "1950    0.001189\n",
      "1941    0.001189\n",
      "1958    0.001189\n",
      "Name: Date, dtype: float64\n",
      "-----------------\n",
      "Year /n\n",
      "2015.0    0.022075\n",
      "2017.0    0.021056\n",
      "2016.0    0.020207\n",
      "0.0       0.020207\n",
      "2011.0    0.020037\n",
      "Name: Year, dtype: float64\n",
      "-----------------\n",
      "Type /n\n",
      "Unprovoked      0.797928\n",
      "Provoked        0.099677\n",
      "Watercraft      0.056546\n",
      "Sea Disaster    0.038377\n",
      "Invalid         0.004245\n",
      "Name: Type, dtype: float64\n",
      "-----------------\n",
      "Country /n\n",
      "USA                 0.365597\n",
      "AUSTRALIA           0.213619\n",
      "SOUTH AFRICA        0.088130\n",
      "PAPUA NEW GUINEA    0.022075\n",
      "NEW ZEALAND         0.021056\n",
      "Name: Country, dtype: float64\n",
      "-----------------\n",
      "Area /n\n",
      "Florida            0.173374\n",
      "New South Wales    0.076414\n",
      "Not Available      0.063678\n",
      "Queensland         0.051622\n",
      "Hawaii             0.047207\n",
      "Name: Area, dtype: float64\n",
      "-----------------\n",
      "Location /n\n",
      "Not Available                       0.075565\n",
      "New Smyrna Beach, Volusia County    0.030056\n",
      "Daytona Beach, Volusia County       0.005094\n",
      "Ponce Inlet, Volusia County         0.003906\n",
      "Melbourne Beach, Brevard County     0.003226\n",
      "Name: Location, dtype: float64\n",
      "-----------------\n",
      "Activity /n\n",
      "Surfing          0.169808\n",
      "Swimming         0.134318\n",
      "Fishing          0.074206\n",
      "Not Available    0.065716\n",
      "Spearfishing     0.055357\n",
      "Name: Activity, dtype: float64\n",
      "-----------------\n",
      "Sex /n\n",
      "M    0.886059\n",
      "F    0.113941\n",
      "Name: Sex, dtype: float64\n",
      "-----------------\n",
      "Injury /n\n",
      "Survived     0.671761\n",
      "Fatal        0.211411\n",
      "No Injury    0.116828\n",
      "Name: Injury, dtype: float64\n",
      "-----------------\n",
      "Fatal (Y/N) /n\n",
      "N    0.765155\n",
      "Y    0.234845\n",
      "Name: Fatal (Y/N), dtype: float64\n",
      "-----------------\n",
      "Time /n\n",
      "Not Available    0.493462\n",
      "Afternoon        0.032094\n",
      "Morning          0.020717\n",
      "11h00            0.020547\n",
      "12h00            0.019188\n",
      "Name: Time, dtype: float64\n",
      "-----------------\n",
      "Species  /n\n",
      "Not Available    0.478859\n",
      "White shark      0.029037\n",
      "Tiger shark      0.013754\n",
      "Bull shark       0.009509\n",
      "4' shark         0.006962\n",
      "Name: Species , dtype: float64\n",
      "-----------------\n"
     ]
    }
   ],
   "source": [
    "for i in df:\n",
    "    print(i, '/n')\n",
    "    \n",
    "    print(df[i].value_counts(normalize=True).head())\n",
    "    print('-----------------')"
   ]
  },
  {
   "cell_type": "code",
   "execution_count": 130,
   "metadata": {
    "ExecuteTime": {
     "end_time": "2021-02-25T23:55:45.015109Z",
     "start_time": "2021-02-25T23:55:44.993113Z"
    }
   },
   "outputs": [],
   "source": [
    "df['Year'] = [i[-4:] for i in df['Date']]"
   ]
  },
  {
   "cell_type": "code",
   "execution_count": 131,
   "metadata": {
    "ExecuteTime": {
     "end_time": "2021-02-25T23:55:48.288541Z",
     "start_time": "2021-02-25T23:55:47.855463Z"
    }
   },
   "outputs": [],
   "source": [
    "for i, d in enumerate(df['Year']):\n",
    "    try:\n",
    "        df['Year'][i] = int(d)\n",
    "    except:\n",
    "        df['Year'][i] = 0"
   ]
  },
  {
   "cell_type": "code",
   "execution_count": 132,
   "metadata": {
    "ExecuteTime": {
     "end_time": "2021-02-25T23:55:49.466092Z",
     "start_time": "2021-02-25T23:55:49.452116Z"
    }
   },
   "outputs": [],
   "source": [
    "months = ['Jan', 'Feb', 'Mar', 'Apr', 'May', 'Jun', 'Jul', 'Aug', 'Sep', 'Oct', 'Nov', 'Dec']"
   ]
  },
  {
   "cell_type": "code",
   "execution_count": 133,
   "metadata": {
    "ExecuteTime": {
     "end_time": "2021-02-25T23:55:50.678955Z",
     "start_time": "2021-02-25T23:55:50.665878Z"
    }
   },
   "outputs": [],
   "source": [
    "df['Month'] = 'NA'"
   ]
  },
  {
   "cell_type": "code",
   "execution_count": 134,
   "metadata": {
    "ExecuteTime": {
     "end_time": "2021-02-25T23:55:55.172881Z",
     "start_time": "2021-02-25T23:55:54.710516Z"
    }
   },
   "outputs": [],
   "source": [
    "for i, d in enumerate(df['Date']):\n",
    "    for m in months:\n",
    "        if d.find(m) != -1:\n",
    "            s = d.find(m)\n",
    "            df['Month'][i] = d[s:s+3]"
   ]
  },
  {
   "cell_type": "code",
   "execution_count": null,
   "metadata": {},
   "outputs": [],
   "source": []
  }
 ],
 "metadata": {
  "kernelspec": {
   "display_name": "Python 3",
   "language": "python",
   "name": "python3"
  },
  "language_info": {
   "codemirror_mode": {
    "name": "ipython",
    "version": 3
   },
   "file_extension": ".py",
   "mimetype": "text/x-python",
   "name": "python",
   "nbconvert_exporter": "python",
   "pygments_lexer": "ipython3",
   "version": "3.6.9"
  },
  "toc": {
   "base_numbering": 1,
   "nav_menu": {},
   "number_sections": true,
   "sideBar": true,
   "skip_h1_title": false,
   "title_cell": "Table of Contents",
   "title_sidebar": "Contents",
   "toc_cell": false,
   "toc_position": {},
   "toc_section_display": true,
   "toc_window_display": false
  },
  "varInspector": {
   "cols": {
    "lenName": 16,
    "lenType": 16,
    "lenVar": 40
   },
   "kernels_config": {
    "python": {
     "delete_cmd_postfix": "",
     "delete_cmd_prefix": "del ",
     "library": "var_list.py",
     "varRefreshCmd": "print(var_dic_list())"
    },
    "r": {
     "delete_cmd_postfix": ") ",
     "delete_cmd_prefix": "rm(",
     "library": "var_list.r",
     "varRefreshCmd": "cat(var_dic_list()) "
    }
   },
   "types_to_exclude": [
    "module",
    "function",
    "builtin_function_or_method",
    "instance",
    "_Feature"
   ],
   "window_display": false
  }
 },
 "nbformat": 4,
 "nbformat_minor": 2
}
